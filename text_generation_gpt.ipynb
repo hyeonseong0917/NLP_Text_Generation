{
  "nbformat": 4,
  "nbformat_minor": 0,
  "metadata": {
    "colab": {
      "provenance": [],
      "machine_shape": "hm",
      "include_colab_link": true
    },
    "kernelspec": {
      "name": "python3",
      "display_name": "Python 3"
    },
    "language_info": {
      "name": "python"
    },
    "gpuClass": "standard",
    "widgets": {
      "application/vnd.jupyter.widget-state+json": {
        "587d9331850f4b71bfb2c765e52d0a21": {
          "model_module": "@jupyter-widgets/controls",
          "model_name": "HBoxModel",
          "model_module_version": "1.5.0",
          "state": {
            "_dom_classes": [],
            "_model_module": "@jupyter-widgets/controls",
            "_model_module_version": "1.5.0",
            "_model_name": "HBoxModel",
            "_view_count": null,
            "_view_module": "@jupyter-widgets/controls",
            "_view_module_version": "1.5.0",
            "_view_name": "HBoxView",
            "box_style": "",
            "children": [
              "IPY_MODEL_3c50d056b7a648648f30a76920892344",
              "IPY_MODEL_3383d80b528644c3a6ea14aa7be614c1",
              "IPY_MODEL_a3c58afb42bc4e78aed06b29d3fc6b3c"
            ],
            "layout": "IPY_MODEL_6b5fe15eb4a04994a587f4302efd3b5e"
          }
        },
        "3c50d056b7a648648f30a76920892344": {
          "model_module": "@jupyter-widgets/controls",
          "model_name": "HTMLModel",
          "model_module_version": "1.5.0",
          "state": {
            "_dom_classes": [],
            "_model_module": "@jupyter-widgets/controls",
            "_model_module_version": "1.5.0",
            "_model_name": "HTMLModel",
            "_view_count": null,
            "_view_module": "@jupyter-widgets/controls",
            "_view_module_version": "1.5.0",
            "_view_name": "HTMLView",
            "description": "",
            "description_tooltip": null,
            "layout": "IPY_MODEL_a8396b81926e423b9ddbd137cb928a1e",
            "placeholder": "​",
            "style": "IPY_MODEL_10640ecc4ad24f9b82719472b490bdd6",
            "value": "Downloading (…)lve/main/config.json: 100%"
          }
        },
        "3383d80b528644c3a6ea14aa7be614c1": {
          "model_module": "@jupyter-widgets/controls",
          "model_name": "FloatProgressModel",
          "model_module_version": "1.5.0",
          "state": {
            "_dom_classes": [],
            "_model_module": "@jupyter-widgets/controls",
            "_model_module_version": "1.5.0",
            "_model_name": "FloatProgressModel",
            "_view_count": null,
            "_view_module": "@jupyter-widgets/controls",
            "_view_module_version": "1.5.0",
            "_view_name": "ProgressView",
            "bar_style": "success",
            "description": "",
            "description_tooltip": null,
            "layout": "IPY_MODEL_dd2e045e9d164c8e8de59d3752c43d4e",
            "max": 1000,
            "min": 0,
            "orientation": "horizontal",
            "style": "IPY_MODEL_836cb10e83574d36b70986b546a8d999",
            "value": 1000
          }
        },
        "a3c58afb42bc4e78aed06b29d3fc6b3c": {
          "model_module": "@jupyter-widgets/controls",
          "model_name": "HTMLModel",
          "model_module_version": "1.5.0",
          "state": {
            "_dom_classes": [],
            "_model_module": "@jupyter-widgets/controls",
            "_model_module_version": "1.5.0",
            "_model_name": "HTMLModel",
            "_view_count": null,
            "_view_module": "@jupyter-widgets/controls",
            "_view_module_version": "1.5.0",
            "_view_name": "HTMLView",
            "description": "",
            "description_tooltip": null,
            "layout": "IPY_MODEL_b7dc7c4d498d4742a05218bc8202bcf5",
            "placeholder": "​",
            "style": "IPY_MODEL_26a2c98c8b324eefadeb36d9794107ad",
            "value": " 1.00k/1.00k [00:00&lt;00:00, 36.0kB/s]"
          }
        },
        "6b5fe15eb4a04994a587f4302efd3b5e": {
          "model_module": "@jupyter-widgets/base",
          "model_name": "LayoutModel",
          "model_module_version": "1.2.0",
          "state": {
            "_model_module": "@jupyter-widgets/base",
            "_model_module_version": "1.2.0",
            "_model_name": "LayoutModel",
            "_view_count": null,
            "_view_module": "@jupyter-widgets/base",
            "_view_module_version": "1.2.0",
            "_view_name": "LayoutView",
            "align_content": null,
            "align_items": null,
            "align_self": null,
            "border": null,
            "bottom": null,
            "display": null,
            "flex": null,
            "flex_flow": null,
            "grid_area": null,
            "grid_auto_columns": null,
            "grid_auto_flow": null,
            "grid_auto_rows": null,
            "grid_column": null,
            "grid_gap": null,
            "grid_row": null,
            "grid_template_areas": null,
            "grid_template_columns": null,
            "grid_template_rows": null,
            "height": null,
            "justify_content": null,
            "justify_items": null,
            "left": null,
            "margin": null,
            "max_height": null,
            "max_width": null,
            "min_height": null,
            "min_width": null,
            "object_fit": null,
            "object_position": null,
            "order": null,
            "overflow": null,
            "overflow_x": null,
            "overflow_y": null,
            "padding": null,
            "right": null,
            "top": null,
            "visibility": null,
            "width": null
          }
        },
        "a8396b81926e423b9ddbd137cb928a1e": {
          "model_module": "@jupyter-widgets/base",
          "model_name": "LayoutModel",
          "model_module_version": "1.2.0",
          "state": {
            "_model_module": "@jupyter-widgets/base",
            "_model_module_version": "1.2.0",
            "_model_name": "LayoutModel",
            "_view_count": null,
            "_view_module": "@jupyter-widgets/base",
            "_view_module_version": "1.2.0",
            "_view_name": "LayoutView",
            "align_content": null,
            "align_items": null,
            "align_self": null,
            "border": null,
            "bottom": null,
            "display": null,
            "flex": null,
            "flex_flow": null,
            "grid_area": null,
            "grid_auto_columns": null,
            "grid_auto_flow": null,
            "grid_auto_rows": null,
            "grid_column": null,
            "grid_gap": null,
            "grid_row": null,
            "grid_template_areas": null,
            "grid_template_columns": null,
            "grid_template_rows": null,
            "height": null,
            "justify_content": null,
            "justify_items": null,
            "left": null,
            "margin": null,
            "max_height": null,
            "max_width": null,
            "min_height": null,
            "min_width": null,
            "object_fit": null,
            "object_position": null,
            "order": null,
            "overflow": null,
            "overflow_x": null,
            "overflow_y": null,
            "padding": null,
            "right": null,
            "top": null,
            "visibility": null,
            "width": null
          }
        },
        "10640ecc4ad24f9b82719472b490bdd6": {
          "model_module": "@jupyter-widgets/controls",
          "model_name": "DescriptionStyleModel",
          "model_module_version": "1.5.0",
          "state": {
            "_model_module": "@jupyter-widgets/controls",
            "_model_module_version": "1.5.0",
            "_model_name": "DescriptionStyleModel",
            "_view_count": null,
            "_view_module": "@jupyter-widgets/base",
            "_view_module_version": "1.2.0",
            "_view_name": "StyleView",
            "description_width": ""
          }
        },
        "dd2e045e9d164c8e8de59d3752c43d4e": {
          "model_module": "@jupyter-widgets/base",
          "model_name": "LayoutModel",
          "model_module_version": "1.2.0",
          "state": {
            "_model_module": "@jupyter-widgets/base",
            "_model_module_version": "1.2.0",
            "_model_name": "LayoutModel",
            "_view_count": null,
            "_view_module": "@jupyter-widgets/base",
            "_view_module_version": "1.2.0",
            "_view_name": "LayoutView",
            "align_content": null,
            "align_items": null,
            "align_self": null,
            "border": null,
            "bottom": null,
            "display": null,
            "flex": null,
            "flex_flow": null,
            "grid_area": null,
            "grid_auto_columns": null,
            "grid_auto_flow": null,
            "grid_auto_rows": null,
            "grid_column": null,
            "grid_gap": null,
            "grid_row": null,
            "grid_template_areas": null,
            "grid_template_columns": null,
            "grid_template_rows": null,
            "height": null,
            "justify_content": null,
            "justify_items": null,
            "left": null,
            "margin": null,
            "max_height": null,
            "max_width": null,
            "min_height": null,
            "min_width": null,
            "object_fit": null,
            "object_position": null,
            "order": null,
            "overflow": null,
            "overflow_x": null,
            "overflow_y": null,
            "padding": null,
            "right": null,
            "top": null,
            "visibility": null,
            "width": null
          }
        },
        "836cb10e83574d36b70986b546a8d999": {
          "model_module": "@jupyter-widgets/controls",
          "model_name": "ProgressStyleModel",
          "model_module_version": "1.5.0",
          "state": {
            "_model_module": "@jupyter-widgets/controls",
            "_model_module_version": "1.5.0",
            "_model_name": "ProgressStyleModel",
            "_view_count": null,
            "_view_module": "@jupyter-widgets/base",
            "_view_module_version": "1.2.0",
            "_view_name": "StyleView",
            "bar_color": null,
            "description_width": ""
          }
        },
        "b7dc7c4d498d4742a05218bc8202bcf5": {
          "model_module": "@jupyter-widgets/base",
          "model_name": "LayoutModel",
          "model_module_version": "1.2.0",
          "state": {
            "_model_module": "@jupyter-widgets/base",
            "_model_module_version": "1.2.0",
            "_model_name": "LayoutModel",
            "_view_count": null,
            "_view_module": "@jupyter-widgets/base",
            "_view_module_version": "1.2.0",
            "_view_name": "LayoutView",
            "align_content": null,
            "align_items": null,
            "align_self": null,
            "border": null,
            "bottom": null,
            "display": null,
            "flex": null,
            "flex_flow": null,
            "grid_area": null,
            "grid_auto_columns": null,
            "grid_auto_flow": null,
            "grid_auto_rows": null,
            "grid_column": null,
            "grid_gap": null,
            "grid_row": null,
            "grid_template_areas": null,
            "grid_template_columns": null,
            "grid_template_rows": null,
            "height": null,
            "justify_content": null,
            "justify_items": null,
            "left": null,
            "margin": null,
            "max_height": null,
            "max_width": null,
            "min_height": null,
            "min_width": null,
            "object_fit": null,
            "object_position": null,
            "order": null,
            "overflow": null,
            "overflow_x": null,
            "overflow_y": null,
            "padding": null,
            "right": null,
            "top": null,
            "visibility": null,
            "width": null
          }
        },
        "26a2c98c8b324eefadeb36d9794107ad": {
          "model_module": "@jupyter-widgets/controls",
          "model_name": "DescriptionStyleModel",
          "model_module_version": "1.5.0",
          "state": {
            "_model_module": "@jupyter-widgets/controls",
            "_model_module_version": "1.5.0",
            "_model_name": "DescriptionStyleModel",
            "_view_count": null,
            "_view_module": "@jupyter-widgets/base",
            "_view_module_version": "1.2.0",
            "_view_name": "StyleView",
            "description_width": ""
          }
        },
        "b831ef4a0b904f9abb3ebc7603864b11": {
          "model_module": "@jupyter-widgets/controls",
          "model_name": "HBoxModel",
          "model_module_version": "1.5.0",
          "state": {
            "_dom_classes": [],
            "_model_module": "@jupyter-widgets/controls",
            "_model_module_version": "1.5.0",
            "_model_name": "HBoxModel",
            "_view_count": null,
            "_view_module": "@jupyter-widgets/controls",
            "_view_module_version": "1.5.0",
            "_view_name": "HBoxView",
            "box_style": "",
            "children": [
              "IPY_MODEL_ce04fd68d3804f1d89c509f652a44a4a",
              "IPY_MODEL_70e232f7038c41999e2d28843d976ec8",
              "IPY_MODEL_d02493e134fd48098351448cd8e9f80f"
            ],
            "layout": "IPY_MODEL_addd4f9f137246d8944f7fc679e8b0c1"
          }
        },
        "ce04fd68d3804f1d89c509f652a44a4a": {
          "model_module": "@jupyter-widgets/controls",
          "model_name": "HTMLModel",
          "model_module_version": "1.5.0",
          "state": {
            "_dom_classes": [],
            "_model_module": "@jupyter-widgets/controls",
            "_model_module_version": "1.5.0",
            "_model_name": "HTMLModel",
            "_view_count": null,
            "_view_module": "@jupyter-widgets/controls",
            "_view_module_version": "1.5.0",
            "_view_name": "HTMLView",
            "description": "",
            "description_tooltip": null,
            "layout": "IPY_MODEL_b961217ece7047b3a8275ed18549b17c",
            "placeholder": "​",
            "style": "IPY_MODEL_c40c195c55484298a9b3726328264154",
            "value": "Downloading pytorch_model.bin: 100%"
          }
        },
        "70e232f7038c41999e2d28843d976ec8": {
          "model_module": "@jupyter-widgets/controls",
          "model_name": "FloatProgressModel",
          "model_module_version": "1.5.0",
          "state": {
            "_dom_classes": [],
            "_model_module": "@jupyter-widgets/controls",
            "_model_module_version": "1.5.0",
            "_model_name": "FloatProgressModel",
            "_view_count": null,
            "_view_module": "@jupyter-widgets/controls",
            "_view_module_version": "1.5.0",
            "_view_name": "ProgressView",
            "bar_style": "success",
            "description": "",
            "description_tooltip": null,
            "layout": "IPY_MODEL_7ac9a4cc73e7434f9e39bb7ae8668806",
            "max": 513302779,
            "min": 0,
            "orientation": "horizontal",
            "style": "IPY_MODEL_fb6292b3a0e34cadb11c737ed8496ccc",
            "value": 513302779
          }
        },
        "d02493e134fd48098351448cd8e9f80f": {
          "model_module": "@jupyter-widgets/controls",
          "model_name": "HTMLModel",
          "model_module_version": "1.5.0",
          "state": {
            "_dom_classes": [],
            "_model_module": "@jupyter-widgets/controls",
            "_model_module_version": "1.5.0",
            "_model_name": "HTMLModel",
            "_view_count": null,
            "_view_module": "@jupyter-widgets/controls",
            "_view_module_version": "1.5.0",
            "_view_name": "HTMLView",
            "description": "",
            "description_tooltip": null,
            "layout": "IPY_MODEL_bd34321b5947457bacac9980f9f85121",
            "placeholder": "​",
            "style": "IPY_MODEL_45bcb9991c944c6ba46877e7de6d2b0e",
            "value": " 513M/513M [00:02&lt;00:00, 208MB/s]"
          }
        },
        "addd4f9f137246d8944f7fc679e8b0c1": {
          "model_module": "@jupyter-widgets/base",
          "model_name": "LayoutModel",
          "model_module_version": "1.2.0",
          "state": {
            "_model_module": "@jupyter-widgets/base",
            "_model_module_version": "1.2.0",
            "_model_name": "LayoutModel",
            "_view_count": null,
            "_view_module": "@jupyter-widgets/base",
            "_view_module_version": "1.2.0",
            "_view_name": "LayoutView",
            "align_content": null,
            "align_items": null,
            "align_self": null,
            "border": null,
            "bottom": null,
            "display": null,
            "flex": null,
            "flex_flow": null,
            "grid_area": null,
            "grid_auto_columns": null,
            "grid_auto_flow": null,
            "grid_auto_rows": null,
            "grid_column": null,
            "grid_gap": null,
            "grid_row": null,
            "grid_template_areas": null,
            "grid_template_columns": null,
            "grid_template_rows": null,
            "height": null,
            "justify_content": null,
            "justify_items": null,
            "left": null,
            "margin": null,
            "max_height": null,
            "max_width": null,
            "min_height": null,
            "min_width": null,
            "object_fit": null,
            "object_position": null,
            "order": null,
            "overflow": null,
            "overflow_x": null,
            "overflow_y": null,
            "padding": null,
            "right": null,
            "top": null,
            "visibility": null,
            "width": null
          }
        },
        "b961217ece7047b3a8275ed18549b17c": {
          "model_module": "@jupyter-widgets/base",
          "model_name": "LayoutModel",
          "model_module_version": "1.2.0",
          "state": {
            "_model_module": "@jupyter-widgets/base",
            "_model_module_version": "1.2.0",
            "_model_name": "LayoutModel",
            "_view_count": null,
            "_view_module": "@jupyter-widgets/base",
            "_view_module_version": "1.2.0",
            "_view_name": "LayoutView",
            "align_content": null,
            "align_items": null,
            "align_self": null,
            "border": null,
            "bottom": null,
            "display": null,
            "flex": null,
            "flex_flow": null,
            "grid_area": null,
            "grid_auto_columns": null,
            "grid_auto_flow": null,
            "grid_auto_rows": null,
            "grid_column": null,
            "grid_gap": null,
            "grid_row": null,
            "grid_template_areas": null,
            "grid_template_columns": null,
            "grid_template_rows": null,
            "height": null,
            "justify_content": null,
            "justify_items": null,
            "left": null,
            "margin": null,
            "max_height": null,
            "max_width": null,
            "min_height": null,
            "min_width": null,
            "object_fit": null,
            "object_position": null,
            "order": null,
            "overflow": null,
            "overflow_x": null,
            "overflow_y": null,
            "padding": null,
            "right": null,
            "top": null,
            "visibility": null,
            "width": null
          }
        },
        "c40c195c55484298a9b3726328264154": {
          "model_module": "@jupyter-widgets/controls",
          "model_name": "DescriptionStyleModel",
          "model_module_version": "1.5.0",
          "state": {
            "_model_module": "@jupyter-widgets/controls",
            "_model_module_version": "1.5.0",
            "_model_name": "DescriptionStyleModel",
            "_view_count": null,
            "_view_module": "@jupyter-widgets/base",
            "_view_module_version": "1.2.0",
            "_view_name": "StyleView",
            "description_width": ""
          }
        },
        "7ac9a4cc73e7434f9e39bb7ae8668806": {
          "model_module": "@jupyter-widgets/base",
          "model_name": "LayoutModel",
          "model_module_version": "1.2.0",
          "state": {
            "_model_module": "@jupyter-widgets/base",
            "_model_module_version": "1.2.0",
            "_model_name": "LayoutModel",
            "_view_count": null,
            "_view_module": "@jupyter-widgets/base",
            "_view_module_version": "1.2.0",
            "_view_name": "LayoutView",
            "align_content": null,
            "align_items": null,
            "align_self": null,
            "border": null,
            "bottom": null,
            "display": null,
            "flex": null,
            "flex_flow": null,
            "grid_area": null,
            "grid_auto_columns": null,
            "grid_auto_flow": null,
            "grid_auto_rows": null,
            "grid_column": null,
            "grid_gap": null,
            "grid_row": null,
            "grid_template_areas": null,
            "grid_template_columns": null,
            "grid_template_rows": null,
            "height": null,
            "justify_content": null,
            "justify_items": null,
            "left": null,
            "margin": null,
            "max_height": null,
            "max_width": null,
            "min_height": null,
            "min_width": null,
            "object_fit": null,
            "object_position": null,
            "order": null,
            "overflow": null,
            "overflow_x": null,
            "overflow_y": null,
            "padding": null,
            "right": null,
            "top": null,
            "visibility": null,
            "width": null
          }
        },
        "fb6292b3a0e34cadb11c737ed8496ccc": {
          "model_module": "@jupyter-widgets/controls",
          "model_name": "ProgressStyleModel",
          "model_module_version": "1.5.0",
          "state": {
            "_model_module": "@jupyter-widgets/controls",
            "_model_module_version": "1.5.0",
            "_model_name": "ProgressStyleModel",
            "_view_count": null,
            "_view_module": "@jupyter-widgets/base",
            "_view_module_version": "1.2.0",
            "_view_name": "StyleView",
            "bar_color": null,
            "description_width": ""
          }
        },
        "bd34321b5947457bacac9980f9f85121": {
          "model_module": "@jupyter-widgets/base",
          "model_name": "LayoutModel",
          "model_module_version": "1.2.0",
          "state": {
            "_model_module": "@jupyter-widgets/base",
            "_model_module_version": "1.2.0",
            "_model_name": "LayoutModel",
            "_view_count": null,
            "_view_module": "@jupyter-widgets/base",
            "_view_module_version": "1.2.0",
            "_view_name": "LayoutView",
            "align_content": null,
            "align_items": null,
            "align_self": null,
            "border": null,
            "bottom": null,
            "display": null,
            "flex": null,
            "flex_flow": null,
            "grid_area": null,
            "grid_auto_columns": null,
            "grid_auto_flow": null,
            "grid_auto_rows": null,
            "grid_column": null,
            "grid_gap": null,
            "grid_row": null,
            "grid_template_areas": null,
            "grid_template_columns": null,
            "grid_template_rows": null,
            "height": null,
            "justify_content": null,
            "justify_items": null,
            "left": null,
            "margin": null,
            "max_height": null,
            "max_width": null,
            "min_height": null,
            "min_width": null,
            "object_fit": null,
            "object_position": null,
            "order": null,
            "overflow": null,
            "overflow_x": null,
            "overflow_y": null,
            "padding": null,
            "right": null,
            "top": null,
            "visibility": null,
            "width": null
          }
        },
        "45bcb9991c944c6ba46877e7de6d2b0e": {
          "model_module": "@jupyter-widgets/controls",
          "model_name": "DescriptionStyleModel",
          "model_module_version": "1.5.0",
          "state": {
            "_model_module": "@jupyter-widgets/controls",
            "_model_module_version": "1.5.0",
            "_model_name": "DescriptionStyleModel",
            "_view_count": null,
            "_view_module": "@jupyter-widgets/base",
            "_view_module_version": "1.2.0",
            "_view_name": "StyleView",
            "description_width": ""
          }
        },
        "70848db41ba645cbb77602ecc807e68f": {
          "model_module": "@jupyter-widgets/controls",
          "model_name": "HBoxModel",
          "model_module_version": "1.5.0",
          "state": {
            "_dom_classes": [],
            "_model_module": "@jupyter-widgets/controls",
            "_model_module_version": "1.5.0",
            "_model_name": "HBoxModel",
            "_view_count": null,
            "_view_module": "@jupyter-widgets/controls",
            "_view_module_version": "1.5.0",
            "_view_name": "HBoxView",
            "box_style": "",
            "children": [
              "IPY_MODEL_67feb1459f8949feb3d10530f2ba340f",
              "IPY_MODEL_f2956bc1adea4b2080fdf99861492245",
              "IPY_MODEL_2e3340879a1d40e4bad38763348e2e22"
            ],
            "layout": "IPY_MODEL_671bcf62a4ab4c7bbaafef66f314dbd6"
          }
        },
        "67feb1459f8949feb3d10530f2ba340f": {
          "model_module": "@jupyter-widgets/controls",
          "model_name": "HTMLModel",
          "model_module_version": "1.5.0",
          "state": {
            "_dom_classes": [],
            "_model_module": "@jupyter-widgets/controls",
            "_model_module_version": "1.5.0",
            "_model_name": "HTMLModel",
            "_view_count": null,
            "_view_module": "@jupyter-widgets/controls",
            "_view_module_version": "1.5.0",
            "_view_name": "HTMLView",
            "description": "",
            "description_tooltip": null,
            "layout": "IPY_MODEL_f5554cf41e8b4e868e4e39c79be37164",
            "placeholder": "​",
            "style": "IPY_MODEL_0917b0b11679410ca52152bd6500c229",
            "value": "Downloading (…)/main/tokenizer.json: 100%"
          }
        },
        "f2956bc1adea4b2080fdf99861492245": {
          "model_module": "@jupyter-widgets/controls",
          "model_name": "FloatProgressModel",
          "model_module_version": "1.5.0",
          "state": {
            "_dom_classes": [],
            "_model_module": "@jupyter-widgets/controls",
            "_model_module_version": "1.5.0",
            "_model_name": "FloatProgressModel",
            "_view_count": null,
            "_view_module": "@jupyter-widgets/controls",
            "_view_module_version": "1.5.0",
            "_view_name": "ProgressView",
            "bar_style": "success",
            "description": "",
            "description_tooltip": null,
            "layout": "IPY_MODEL_62703387bad5430bbab7771ed5ea7ae4",
            "max": 2825034,
            "min": 0,
            "orientation": "horizontal",
            "style": "IPY_MODEL_8f4d256c641041acb10e0876eb648ae1",
            "value": 2825034
          }
        },
        "2e3340879a1d40e4bad38763348e2e22": {
          "model_module": "@jupyter-widgets/controls",
          "model_name": "HTMLModel",
          "model_module_version": "1.5.0",
          "state": {
            "_dom_classes": [],
            "_model_module": "@jupyter-widgets/controls",
            "_model_module_version": "1.5.0",
            "_model_name": "HTMLModel",
            "_view_count": null,
            "_view_module": "@jupyter-widgets/controls",
            "_view_module_version": "1.5.0",
            "_view_name": "HTMLView",
            "description": "",
            "description_tooltip": null,
            "layout": "IPY_MODEL_d1d6848770a9424d863ffe8075d0116c",
            "placeholder": "​",
            "style": "IPY_MODEL_654e83f663c44c6a8d6ab095b3d9875f",
            "value": " 2.83M/2.83M [00:00&lt;00:00, 31.9MB/s]"
          }
        },
        "671bcf62a4ab4c7bbaafef66f314dbd6": {
          "model_module": "@jupyter-widgets/base",
          "model_name": "LayoutModel",
          "model_module_version": "1.2.0",
          "state": {
            "_model_module": "@jupyter-widgets/base",
            "_model_module_version": "1.2.0",
            "_model_name": "LayoutModel",
            "_view_count": null,
            "_view_module": "@jupyter-widgets/base",
            "_view_module_version": "1.2.0",
            "_view_name": "LayoutView",
            "align_content": null,
            "align_items": null,
            "align_self": null,
            "border": null,
            "bottom": null,
            "display": null,
            "flex": null,
            "flex_flow": null,
            "grid_area": null,
            "grid_auto_columns": null,
            "grid_auto_flow": null,
            "grid_auto_rows": null,
            "grid_column": null,
            "grid_gap": null,
            "grid_row": null,
            "grid_template_areas": null,
            "grid_template_columns": null,
            "grid_template_rows": null,
            "height": null,
            "justify_content": null,
            "justify_items": null,
            "left": null,
            "margin": null,
            "max_height": null,
            "max_width": null,
            "min_height": null,
            "min_width": null,
            "object_fit": null,
            "object_position": null,
            "order": null,
            "overflow": null,
            "overflow_x": null,
            "overflow_y": null,
            "padding": null,
            "right": null,
            "top": null,
            "visibility": null,
            "width": null
          }
        },
        "f5554cf41e8b4e868e4e39c79be37164": {
          "model_module": "@jupyter-widgets/base",
          "model_name": "LayoutModel",
          "model_module_version": "1.2.0",
          "state": {
            "_model_module": "@jupyter-widgets/base",
            "_model_module_version": "1.2.0",
            "_model_name": "LayoutModel",
            "_view_count": null,
            "_view_module": "@jupyter-widgets/base",
            "_view_module_version": "1.2.0",
            "_view_name": "LayoutView",
            "align_content": null,
            "align_items": null,
            "align_self": null,
            "border": null,
            "bottom": null,
            "display": null,
            "flex": null,
            "flex_flow": null,
            "grid_area": null,
            "grid_auto_columns": null,
            "grid_auto_flow": null,
            "grid_auto_rows": null,
            "grid_column": null,
            "grid_gap": null,
            "grid_row": null,
            "grid_template_areas": null,
            "grid_template_columns": null,
            "grid_template_rows": null,
            "height": null,
            "justify_content": null,
            "justify_items": null,
            "left": null,
            "margin": null,
            "max_height": null,
            "max_width": null,
            "min_height": null,
            "min_width": null,
            "object_fit": null,
            "object_position": null,
            "order": null,
            "overflow": null,
            "overflow_x": null,
            "overflow_y": null,
            "padding": null,
            "right": null,
            "top": null,
            "visibility": null,
            "width": null
          }
        },
        "0917b0b11679410ca52152bd6500c229": {
          "model_module": "@jupyter-widgets/controls",
          "model_name": "DescriptionStyleModel",
          "model_module_version": "1.5.0",
          "state": {
            "_model_module": "@jupyter-widgets/controls",
            "_model_module_version": "1.5.0",
            "_model_name": "DescriptionStyleModel",
            "_view_count": null,
            "_view_module": "@jupyter-widgets/base",
            "_view_module_version": "1.2.0",
            "_view_name": "StyleView",
            "description_width": ""
          }
        },
        "62703387bad5430bbab7771ed5ea7ae4": {
          "model_module": "@jupyter-widgets/base",
          "model_name": "LayoutModel",
          "model_module_version": "1.2.0",
          "state": {
            "_model_module": "@jupyter-widgets/base",
            "_model_module_version": "1.2.0",
            "_model_name": "LayoutModel",
            "_view_count": null,
            "_view_module": "@jupyter-widgets/base",
            "_view_module_version": "1.2.0",
            "_view_name": "LayoutView",
            "align_content": null,
            "align_items": null,
            "align_self": null,
            "border": null,
            "bottom": null,
            "display": null,
            "flex": null,
            "flex_flow": null,
            "grid_area": null,
            "grid_auto_columns": null,
            "grid_auto_flow": null,
            "grid_auto_rows": null,
            "grid_column": null,
            "grid_gap": null,
            "grid_row": null,
            "grid_template_areas": null,
            "grid_template_columns": null,
            "grid_template_rows": null,
            "height": null,
            "justify_content": null,
            "justify_items": null,
            "left": null,
            "margin": null,
            "max_height": null,
            "max_width": null,
            "min_height": null,
            "min_width": null,
            "object_fit": null,
            "object_position": null,
            "order": null,
            "overflow": null,
            "overflow_x": null,
            "overflow_y": null,
            "padding": null,
            "right": null,
            "top": null,
            "visibility": null,
            "width": null
          }
        },
        "8f4d256c641041acb10e0876eb648ae1": {
          "model_module": "@jupyter-widgets/controls",
          "model_name": "ProgressStyleModel",
          "model_module_version": "1.5.0",
          "state": {
            "_model_module": "@jupyter-widgets/controls",
            "_model_module_version": "1.5.0",
            "_model_name": "ProgressStyleModel",
            "_view_count": null,
            "_view_module": "@jupyter-widgets/base",
            "_view_module_version": "1.2.0",
            "_view_name": "StyleView",
            "bar_color": null,
            "description_width": ""
          }
        },
        "d1d6848770a9424d863ffe8075d0116c": {
          "model_module": "@jupyter-widgets/base",
          "model_name": "LayoutModel",
          "model_module_version": "1.2.0",
          "state": {
            "_model_module": "@jupyter-widgets/base",
            "_model_module_version": "1.2.0",
            "_model_name": "LayoutModel",
            "_view_count": null,
            "_view_module": "@jupyter-widgets/base",
            "_view_module_version": "1.2.0",
            "_view_name": "LayoutView",
            "align_content": null,
            "align_items": null,
            "align_self": null,
            "border": null,
            "bottom": null,
            "display": null,
            "flex": null,
            "flex_flow": null,
            "grid_area": null,
            "grid_auto_columns": null,
            "grid_auto_flow": null,
            "grid_auto_rows": null,
            "grid_column": null,
            "grid_gap": null,
            "grid_row": null,
            "grid_template_areas": null,
            "grid_template_columns": null,
            "grid_template_rows": null,
            "height": null,
            "justify_content": null,
            "justify_items": null,
            "left": null,
            "margin": null,
            "max_height": null,
            "max_width": null,
            "min_height": null,
            "min_width": null,
            "object_fit": null,
            "object_position": null,
            "order": null,
            "overflow": null,
            "overflow_x": null,
            "overflow_y": null,
            "padding": null,
            "right": null,
            "top": null,
            "visibility": null,
            "width": null
          }
        },
        "654e83f663c44c6a8d6ab095b3d9875f": {
          "model_module": "@jupyter-widgets/controls",
          "model_name": "DescriptionStyleModel",
          "model_module_version": "1.5.0",
          "state": {
            "_model_module": "@jupyter-widgets/controls",
            "_model_module_version": "1.5.0",
            "_model_name": "DescriptionStyleModel",
            "_view_count": null,
            "_view_module": "@jupyter-widgets/base",
            "_view_module_version": "1.2.0",
            "_view_name": "StyleView",
            "description_width": ""
          }
        }
      }
    }
  },
  "cells": [
    {
      "cell_type": "markdown",
      "metadata": {
        "id": "view-in-github",
        "colab_type": "text"
      },
      "source": [
        "<a href=\"https://colab.research.google.com/github/hyeonseong0917/NLP_study/blob/main/text_generation_gpt.ipynb\" target=\"_parent\"><img src=\"https://colab.research.google.com/assets/colab-badge.svg\" alt=\"Open In Colab\"/></a>"
      ]
    },
    {
      "cell_type": "code",
      "source": [
        "!nvidia-smi"
      ],
      "metadata": {
        "colab": {
          "base_uri": "https://localhost:8080/"
        },
        "id": "iymxoASh2gYS",
        "outputId": "7227cc83-cded-4991-a366-f634df237bc7"
      },
      "execution_count": null,
      "outputs": [
        {
          "output_type": "stream",
          "name": "stdout",
          "text": [
            "Tue May  2 07:52:39 2023       \n",
            "+-----------------------------------------------------------------------------+\n",
            "| NVIDIA-SMI 525.85.12    Driver Version: 525.85.12    CUDA Version: 12.0     |\n",
            "|-------------------------------+----------------------+----------------------+\n",
            "| GPU  Name        Persistence-M| Bus-Id        Disp.A | Volatile Uncorr. ECC |\n",
            "| Fan  Temp  Perf  Pwr:Usage/Cap|         Memory-Usage | GPU-Util  Compute M. |\n",
            "|                               |                      |               MIG M. |\n",
            "|===============================+======================+======================|\n",
            "|   0  Tesla T4            Off  | 00000000:00:04.0 Off |                    0 |\n",
            "| N/A   34C    P8    11W /  70W |      0MiB / 15360MiB |      0%      Default |\n",
            "|                               |                      |                  N/A |\n",
            "+-------------------------------+----------------------+----------------------+\n",
            "                                                                               \n",
            "+-----------------------------------------------------------------------------+\n",
            "| Processes:                                                                  |\n",
            "|  GPU   GI   CI        PID   Type   Process name                  GPU Memory |\n",
            "|        ID   ID                                                   Usage      |\n",
            "|=============================================================================|\n",
            "|  No running processes found                                                 |\n",
            "+-----------------------------------------------------------------------------+\n"
          ]
        }
      ]
    },
    {
      "cell_type": "code",
      "source": [],
      "metadata": {
        "id": "Z7hNUqqYIRW7"
      },
      "execution_count": null,
      "outputs": []
    },
    {
      "cell_type": "code",
      "source": [
        "!pip install transformers accelerate"
      ],
      "metadata": {
        "colab": {
          "base_uri": "https://localhost:8080/"
        },
        "id": "tl1fCySKz9AP",
        "outputId": "b11be9d7-704b-4f05-afee-ffe6b7c93fb8"
      },
      "execution_count": null,
      "outputs": [
        {
          "output_type": "stream",
          "name": "stdout",
          "text": [
            "Looking in indexes: https://pypi.org/simple, https://us-python.pkg.dev/colab-wheels/public/simple/\n",
            "Requirement already satisfied: transformers in /usr/local/lib/python3.10/dist-packages (4.28.1)\n",
            "Requirement already satisfied: accelerate in /usr/local/lib/python3.10/dist-packages (0.18.0)\n",
            "Requirement already satisfied: filelock in /usr/local/lib/python3.10/dist-packages (from transformers) (3.12.0)\n",
            "Requirement already satisfied: huggingface-hub<1.0,>=0.11.0 in /usr/local/lib/python3.10/dist-packages (from transformers) (0.14.1)\n",
            "Requirement already satisfied: numpy>=1.17 in /usr/local/lib/python3.10/dist-packages (from transformers) (1.22.4)\n",
            "Requirement already satisfied: packaging>=20.0 in /usr/local/lib/python3.10/dist-packages (from transformers) (23.1)\n",
            "Requirement already satisfied: pyyaml>=5.1 in /usr/local/lib/python3.10/dist-packages (from transformers) (6.0)\n",
            "Requirement already satisfied: regex!=2019.12.17 in /usr/local/lib/python3.10/dist-packages (from transformers) (2022.10.31)\n",
            "Requirement already satisfied: requests in /usr/local/lib/python3.10/dist-packages (from transformers) (2.27.1)\n",
            "Requirement already satisfied: tokenizers!=0.11.3,<0.14,>=0.11.1 in /usr/local/lib/python3.10/dist-packages (from transformers) (0.13.3)\n",
            "Requirement already satisfied: tqdm>=4.27 in /usr/local/lib/python3.10/dist-packages (from transformers) (4.65.0)\n",
            "Requirement already satisfied: psutil in /usr/local/lib/python3.10/dist-packages (from accelerate) (5.9.5)\n",
            "Requirement already satisfied: torch>=1.4.0 in /usr/local/lib/python3.10/dist-packages (from accelerate) (2.0.0+cu118)\n",
            "Requirement already satisfied: fsspec in /usr/local/lib/python3.10/dist-packages (from huggingface-hub<1.0,>=0.11.0->transformers) (2023.4.0)\n",
            "Requirement already satisfied: typing-extensions>=3.7.4.3 in /usr/local/lib/python3.10/dist-packages (from huggingface-hub<1.0,>=0.11.0->transformers) (4.5.0)\n",
            "Requirement already satisfied: sympy in /usr/local/lib/python3.10/dist-packages (from torch>=1.4.0->accelerate) (1.11.1)\n",
            "Requirement already satisfied: networkx in /usr/local/lib/python3.10/dist-packages (from torch>=1.4.0->accelerate) (3.1)\n",
            "Requirement already satisfied: jinja2 in /usr/local/lib/python3.10/dist-packages (from torch>=1.4.0->accelerate) (3.1.2)\n",
            "Requirement already satisfied: triton==2.0.0 in /usr/local/lib/python3.10/dist-packages (from torch>=1.4.0->accelerate) (2.0.0)\n",
            "Requirement already satisfied: cmake in /usr/local/lib/python3.10/dist-packages (from triton==2.0.0->torch>=1.4.0->accelerate) (3.25.2)\n",
            "Requirement already satisfied: lit in /usr/local/lib/python3.10/dist-packages (from triton==2.0.0->torch>=1.4.0->accelerate) (16.0.2)\n",
            "Requirement already satisfied: urllib3<1.27,>=1.21.1 in /usr/local/lib/python3.10/dist-packages (from requests->transformers) (1.26.15)\n",
            "Requirement already satisfied: certifi>=2017.4.17 in /usr/local/lib/python3.10/dist-packages (from requests->transformers) (2022.12.7)\n",
            "Requirement already satisfied: charset-normalizer~=2.0.0 in /usr/local/lib/python3.10/dist-packages (from requests->transformers) (2.0.12)\n",
            "Requirement already satisfied: idna<4,>=2.5 in /usr/local/lib/python3.10/dist-packages (from requests->transformers) (3.4)\n",
            "Requirement already satisfied: MarkupSafe>=2.0 in /usr/local/lib/python3.10/dist-packages (from jinja2->torch>=1.4.0->accelerate) (2.1.2)\n",
            "Requirement already satisfied: mpmath>=0.19 in /usr/local/lib/python3.10/dist-packages (from sympy->torch>=1.4.0->accelerate) (1.3.0)\n"
          ]
        }
      ]
    },
    {
      "cell_type": "code",
      "source": [],
      "metadata": {
        "id": "ChcZpL6W0T0L"
      },
      "execution_count": null,
      "outputs": []
    },
    {
      "cell_type": "markdown",
      "source": [
        "[Code Reference](https://velog.io/@gtpgg1013/kogpt-%ED%95%9C%EA%B5%AD%EC%96%B4-%EC%83%9D%EC%84%B1-GPT-3-%EB%AA%85%EB%AC%B8%EA%B0%80-%EB%82%A9%EC%8B%9C%EC%98%A4)\n",
        "\n",
        "[Code Reference2](https://littlefoxdiary.tistory.com/46)\n",
        "\n"
      ],
      "metadata": {
        "id": "ehXVWzRfICoi"
      }
    },
    {
      "cell_type": "markdown",
      "source": [],
      "metadata": {
        "id": "Cyr1JaIzIBVf"
      }
    },
    {
      "cell_type": "code",
      "source": [],
      "metadata": {
        "id": "THqfjTP5yymO"
      },
      "execution_count": null,
      "outputs": []
    },
    {
      "cell_type": "code",
      "execution_count": null,
      "metadata": {
        "colab": {
          "base_uri": "https://localhost:8080/",
          "height": 242,
          "referenced_widgets": [
            "587d9331850f4b71bfb2c765e52d0a21",
            "3c50d056b7a648648f30a76920892344",
            "3383d80b528644c3a6ea14aa7be614c1",
            "a3c58afb42bc4e78aed06b29d3fc6b3c",
            "6b5fe15eb4a04994a587f4302efd3b5e",
            "a8396b81926e423b9ddbd137cb928a1e",
            "10640ecc4ad24f9b82719472b490bdd6",
            "dd2e045e9d164c8e8de59d3752c43d4e",
            "836cb10e83574d36b70986b546a8d999",
            "b7dc7c4d498d4742a05218bc8202bcf5",
            "26a2c98c8b324eefadeb36d9794107ad",
            "b831ef4a0b904f9abb3ebc7603864b11",
            "ce04fd68d3804f1d89c509f652a44a4a",
            "70e232f7038c41999e2d28843d976ec8",
            "d02493e134fd48098351448cd8e9f80f",
            "addd4f9f137246d8944f7fc679e8b0c1",
            "b961217ece7047b3a8275ed18549b17c",
            "c40c195c55484298a9b3726328264154",
            "7ac9a4cc73e7434f9e39bb7ae8668806",
            "fb6292b3a0e34cadb11c737ed8496ccc",
            "bd34321b5947457bacac9980f9f85121",
            "45bcb9991c944c6ba46877e7de6d2b0e",
            "70848db41ba645cbb77602ecc807e68f",
            "67feb1459f8949feb3d10530f2ba340f",
            "f2956bc1adea4b2080fdf99861492245",
            "2e3340879a1d40e4bad38763348e2e22",
            "671bcf62a4ab4c7bbaafef66f314dbd6",
            "f5554cf41e8b4e868e4e39c79be37164",
            "0917b0b11679410ca52152bd6500c229",
            "62703387bad5430bbab7771ed5ea7ae4",
            "8f4d256c641041acb10e0876eb648ae1",
            "d1d6848770a9424d863ffe8075d0116c",
            "654e83f663c44c6a8d6ab095b3d9875f"
          ]
        },
        "id": "de-d84KbyfEN",
        "outputId": "ae8e2bca-86e2-42d4-cdf4-c16091f418b9"
      },
      "outputs": [
        {
          "output_type": "display_data",
          "data": {
            "text/plain": [
              "Downloading (…)lve/main/config.json:   0%|          | 0.00/1.00k [00:00<?, ?B/s]"
            ],
            "application/vnd.jupyter.widget-view+json": {
              "version_major": 2,
              "version_minor": 0,
              "model_id": "587d9331850f4b71bfb2c765e52d0a21"
            }
          },
          "metadata": {}
        },
        {
          "output_type": "display_data",
          "data": {
            "text/plain": [
              "Downloading pytorch_model.bin:   0%|          | 0.00/513M [00:00<?, ?B/s]"
            ],
            "application/vnd.jupyter.widget-view+json": {
              "version_major": 2,
              "version_minor": 0,
              "model_id": "b831ef4a0b904f9abb3ebc7603864b11"
            }
          },
          "metadata": {}
        },
        {
          "output_type": "stream",
          "name": "stderr",
          "text": [
            "Some weights of the PyTorch model were not used when initializing the TF 2.0 model TFGPT2LMHeadModel: ['lm_head.weight', 'transformer.h.6.attn.masked_bias', 'transformer.h.0.attn.masked_bias', 'transformer.h.8.attn.masked_bias', 'transformer.h.4.attn.masked_bias', 'transformer.h.9.attn.masked_bias', 'transformer.h.5.attn.masked_bias', 'transformer.h.1.attn.masked_bias', 'transformer.h.2.attn.masked_bias', 'transformer.h.3.attn.masked_bias', 'transformer.h.11.attn.masked_bias', 'transformer.h.10.attn.masked_bias', 'transformer.h.7.attn.masked_bias']\n",
            "- This IS expected if you are initializing TFGPT2LMHeadModel from a PyTorch model trained on another task or with another architecture (e.g. initializing a TFBertForSequenceClassification model from a BertForPreTraining model).\n",
            "- This IS NOT expected if you are initializing TFGPT2LMHeadModel from a PyTorch model that you expect to be exactly identical (e.g. initializing a TFBertForSequenceClassification model from a BertForSequenceClassification model).\n",
            "All the weights of TFGPT2LMHeadModel were initialized from the PyTorch model.\n",
            "If your task is similar to the task the model of the checkpoint was trained on, you can already use TFGPT2LMHeadModel for predictions without further training.\n"
          ]
        },
        {
          "output_type": "display_data",
          "data": {
            "text/plain": [
              "Downloading (…)/main/tokenizer.json:   0%|          | 0.00/2.83M [00:00<?, ?B/s]"
            ],
            "application/vnd.jupyter.widget-view+json": {
              "version_major": 2,
              "version_minor": 0,
              "model_id": "70848db41ba645cbb77602ecc807e68f"
            }
          },
          "metadata": {}
        },
        {
          "output_type": "stream",
          "name": "stderr",
          "text": [
            "Special tokens have been added in the vocabulary, make sure the associated word embeddings are fine-tuned or trained.\n"
          ]
        }
      ],
      "source": [
        "import torch\n",
        "from transformers import AutoTokenizer, AutoModelForCausalLM \n",
        "\"\"\"\n",
        "tokenizer = AutoTokenizer.from_pretrained(\n",
        "  'kakaobrain/kogpt', revision='KoGPT6B-ryan1.5b-float16',  # or float32 version: revision=KoGPT6B-ryan1.5b\n",
        "  bos_token='[BOS]', eos_token='[EOS]', unk_token='[UNK]', pad_token='[PAD]', mask_token='[MASK]'\n",
        ")\n",
        "model = AutoModelForCausalLM.from_pretrained(\n",
        "  'kakaobrain/kogpt', revision='KoGPT6B-ryan1.5b-float16',  # or float32 version: revision=KoGPT6B-ryan1.5b\n",
        "  pad_token_id=tokenizer.eos_token_id,\n",
        "  torch_dtype='auto', low_cpu_mem_usage=True\n",
        ").to(device='cuda', non_blocking=True)\n",
        "_ = model.eval()\n",
        "\"\"\"\n",
        "import numpy as np\n",
        "import random\n",
        "import tensorflow as tf\n",
        "from transformers import AutoTokenizer\n",
        "from transformers import TFGPT2LMHeadModel\n",
        "from transformers import GPTJForCausalLM, AutoTokenizer\n",
        "model = TFGPT2LMHeadModel.from_pretrained('skt/kogpt2-base-v2', from_pt=True)\n",
        "tokenizer = AutoTokenizer.from_pretrained('skt/kogpt2-base-v2')\n",
        "# tokenizer = AutoTokenizer.from_pretrained('MrBananaHuman/kogpt_6b_fp16', bos_token='[BOS]', eos_token='[EOS]', unk_token='[UNK]', pad_token='[PAD]', mask_token='[MASK]')\n",
        "\n",
        "# model = GPTJForCausalLM.from_pretrained('MrBananaHuman/kogpt_6b_fp16', pad_token_id=tokenizer.eos_token_id, torch_dtype='auto', low_cpu_mem_usage=True)\n",
        "# model.to('cuda', non_blocking=True)\n",
        "# _ = model.eval()\n",
        "\n",
        "\n"
      ]
    },
    {
      "cell_type": "code",
      "source": [
        "sent = '근육이 커지기 위해서는'"
      ],
      "metadata": {
        "id": "wnRqisEGfAvd"
      },
      "execution_count": null,
      "outputs": []
    },
    {
      "cell_type": "code",
      "source": [
        "input_ids = tokenizer.encode(sent)\n",
        "input_ids = tf.convert_to_tensor([input_ids])\n",
        "print(input_ids)\n",
        "output = model.generate(input_ids,\n",
        "                        max_length=128,\n",
        "                        repetition_penalty=2.0,\n",
        "                        use_cache=True)\n",
        "output_ids = output.numpy().tolist()[0]\n",
        "print(output_ids)"
      ],
      "metadata": {
        "colab": {
          "base_uri": "https://localhost:8080/"
        },
        "id": "Fnvr7xDGdEPW",
        "outputId": "a92eb6cd-80d3-407a-c1b4-2fdbfb4590a8"
      },
      "execution_count": null,
      "outputs": [
        {
          "output_type": "stream",
          "name": "stdout",
          "text": [
            "tf.Tensor([[33245 10114 12748 11357]], shape=(1, 4), dtype=int32)\n",
            "[33245, 10114, 12748, 11357, 23879, 39306, 9684, 7884, 10211, 15177, 26421, 387, 17339, 7889, 9908, 15768, 6903, 15386, 8146, 12923, 9228, 18651, 42600, 9564, 17764, 9033, 9199, 14441, 7335, 8704, 12557, 32030, 9510, 18595, 9025, 10571, 25741, 10599, 13229, 9508, 7965, 8425, 33102, 9122, 21240, 9801, 32106, 13579, 12442, 13235, 19430, 8022, 12972, 9566, 11178, 9554, 24873, 7198, 9391, 12486, 8711, 9346, 7071, 36736, 9693, 12006, 9038, 10279, 36122, 9960, 8405, 10826, 18988, 25998, 9292, 7671, 9465, 7489, 9277, 10137, 9677, 9248, 9912, 12834, 11488, 13417, 7407, 8428, 8137, 9430, 14222, 11356, 10061, 9885, 19265, 9377, 20305, 7991, 9178, 9648, 9133, 10021, 10138, 30315, 21833, 9362, 9301, 9685, 11584, 9447, 42129, 10124, 7532, 17932, 47123, 37544, 9355, 15632, 9124, 10536, 13530, 12204, 9184, 36152, 9673, 9788, 9029, 11764]\n"
          ]
        }
      ]
    },
    {
      "cell_type": "code",
      "source": [
        "tokenizer.decode(output_ids)"
      ],
      "metadata": {
        "colab": {
          "base_uri": "https://localhost:8080/",
          "height": 90
        },
        "id": "TqGAHakedP3H",
        "outputId": "52377819-1ebf-46f9-eb99-b2d9537ac990"
      },
      "execution_count": null,
      "outputs": [
        {
          "output_type": "execute_result",
          "data": {
            "text/plain": [
              "'근육이 커지기 위해서는 무엇보다 규칙적인 생활습관이 중요하다.\\n특히, 아침식사는 단백질과 비타민이 풍부한 과일과 채소를 많이 섭취하는 것이 좋다.\\n또한 하루 30분 이상 충분한 수면을 취하는 것도 도움이 된다.\\n아침 식사를 거르지 않고 규칙적으로 운동을 하면 혈액순환에 도움을 줄 뿐만 아니라 신진대사를 촉진해 체내 노폐물을 배출하고 혈압을 낮춰준다.\\n운동은 하루에 10분 정도만 하는 게 좋으며 운동 후에는 반드시 스트레칭을 통해 근육량을 늘리고 유연성을 높여야 한다.\\n운동 후 바로 잠자리에 드는 것은 피해야 하며 특히 아침에 일어나면 몸이 피곤해지기 때문에 무리하게 움직이면 오히려 역효과가 날 수도 있다.\\n운동을'"
            ],
            "application/vnd.google.colaboratory.intrinsic+json": {
              "type": "string"
            }
          },
          "metadata": {},
          "execution_count": 33
        }
      ]
    },
    {
      "cell_type": "code",
      "source": [
        "output = model(input_ids)\n",
        "top5 = tf.math.top_k(output.logits[0, -1], k=10000)\n",
        "print(type(top5))\n",
        "m=tokenizer.convert_ids_to_tokens(top5.indices.numpy())\n",
        "m=m[len(m)-6 :len(m)]\n",
        "print(m)\n",
        "# print(len(m))\n",
        "# for i in range(1,5):\n",
        "#   print(m[len(m)-i])"
      ],
      "metadata": {
        "colab": {
          "base_uri": "https://localhost:8080/"
        },
        "id": "6mJMpKJZdVhR",
        "outputId": "fa873a52-78ae-4e96-9847-dfa636cc8ace"
      },
      "execution_count": null,
      "outputs": [
        {
          "output_type": "stream",
          "name": "stdout",
          "text": [
            "<class 'tensorflow.python.ops.gen_nn_ops.TopKV2'>\n",
            "['▁화려', '▁73', '▁방법으로', '▁동전을', '▁들여', '▁자문']\n"
          ]
        }
      ]
    },
    {
      "cell_type": "code",
      "source": [
        "sent = '근육이 커지기 위해서는'\n",
        "input_ids = tokenizer.encode(sent)\n",
        "print(type(input_ids))\n",
        "print(input_ids)\n",
        "while len(input_ids) < 50:\n",
        "    output = model(np.array([input_ids]))\n",
        "    # Top 5의 단어들을 추출\n",
        "    top5 = tf.math.top_k(output.logits[0, -1], k=1000)\n",
        "    # top5=top5[len(top5)-5:len(top5)]\n",
        "    k=tokenizer.convert_ids_to_tokens(top5.indices.numpy())\n",
        "    k=k[len(k)-6 :len(k)]\n",
        "    # k=np.array(k)\n",
        "    # print(type(top5.indices.numpy()))\n",
        "    # print(type(k))\n",
        "    for i in range(len(k)):\n",
        "      k[i]=tokenizer.encode(k[i])\n",
        "    # print(k)      \n",
        "    # print(tokenizer[k][\"input_ids\"])\n",
        "    # break\n",
        "    # Top 5의 단어들 중 랜덤으로 다음 단어로 선택.\n",
        "    # token_id = random.choice(top5.indices.numpy())\n",
        "    token_id = random.choice(k)\n",
        "    # print(token_id)\n",
        "    # print(type(token_id))\n",
        "    # print(tokenizer.decode(token_id))\n",
        "    \n",
        "    input_ids.append(token_id[0])\n",
        "    # break\n",
        "\n",
        "tokenizer.decode(input_ids)"
      ],
      "metadata": {
        "colab": {
          "base_uri": "https://localhost:8080/",
          "height": 90
        },
        "id": "paWIPR3aevhT",
        "outputId": "c539836c-ebd1-4d9c-b69e-3d44a121f6cb"
      },
      "execution_count": null,
      "outputs": [
        {
          "output_type": "stream",
          "name": "stdout",
          "text": [
            "<class 'list'>\n",
            "[33245, 10114, 12748, 11357]\n"
          ]
        },
        {
          "output_type": "execute_result",
          "data": {
            "text/plain": [
              "'근육이 커지기 위해서는 교통 담 백 근 얼마나 충 부 해 망 갑 상 날아 먹이 듯 곤 더 밟 어 무릎 아예 다가 일으 소리 이리 재미 발 선 슈 스키 멧 인가 산을 녹여 청 어 뼈를 들여다 괴. 징 자국 하나가 한번 물을 적에 걸러'"
            ],
            "application/vnd.google.colaboratory.intrinsic+json": {
              "type": "string"
            }
          },
          "metadata": {},
          "execution_count": 87
        }
      ]
    },
    {
      "cell_type": "code",
      "source": [
        "print(type(top5))\n",
        "print(top5[len(top5)-5:len(top5)])"
      ],
      "metadata": {
        "colab": {
          "base_uri": "https://localhost:8080/"
        },
        "id": "_RnajfwCitIK",
        "outputId": "ebd7fa1c-5984-4465-f570-38d9030f9476"
      },
      "execution_count": null,
      "outputs": [
        {
          "output_type": "stream",
          "name": "stdout",
          "text": [
            "<class 'tensorflow.python.ops.gen_nn_ops.TopKV2'>\n",
            "(<tf.Tensor: shape=(1000,), dtype=float32, numpy=\n",
            "array([11.5373535, 10.073083 ,  9.944405 ,  9.874777 ,  9.64585  ,\n",
            "        9.53906  ,  9.523936 ,  9.52004  ,  9.359821 ,  9.210946 ,\n",
            "        9.206393 ,  9.192377 ,  9.138684 ,  9.103445 ,  9.076993 ,\n",
            "        9.039064 ,  9.009724 ,  8.927725 ,  8.892429 ,  8.8671465,\n",
            "        8.842289 ,  8.772652 ,  8.768754 ,  8.737794 ,  8.734391 ,\n",
            "        8.734124 ,  8.730579 ,  8.721138 ,  8.68109  ,  8.613301 ,\n",
            "        8.607966 ,  8.595046 ,  8.564957 ,  8.562681 ,  8.555201 ,\n",
            "        8.533952 ,  8.518273 ,  8.480756 ,  8.46956  ,  8.455201 ,\n",
            "        8.402275 ,  8.400044 ,  8.334945 ,  8.31808  ,  8.314565 ,\n",
            "        8.296791 ,  8.2918215,  8.276949 ,  8.275611 ,  8.269139 ,\n",
            "        8.256231 ,  8.240455 ,  8.22493  ,  8.211713 ,  8.17937  ,\n",
            "        8.135791 ,  8.130085 ,  8.126602 ,  8.099544 ,  8.09632  ,\n",
            "        8.096167 ,  8.09265  ,  8.079878 ,  8.069183 ,  8.048207 ,\n",
            "        8.046988 ,  7.983058 ,  7.960332 ,  7.949538 ,  7.939814 ,\n",
            "        7.925125 ,  7.90527  ,  7.903142 ,  7.901498 ,  7.900548 ,\n",
            "        7.8761835,  7.847039 ,  7.8422656,  7.8325157,  7.8263326,\n",
            "        7.755285 ,  7.748891 ,  7.7467766,  7.741661 ,  7.7401414,\n",
            "        7.7069254,  7.702886 ,  7.701555 ,  7.699979 ,  7.691077 ,\n",
            "        7.6641154,  7.6621475,  7.6524286,  7.6436114,  7.643517 ,\n",
            "        7.593405 ,  7.580095 ,  7.5676804,  7.560521 ,  7.5578713,\n",
            "        7.556785 ,  7.543941 ,  7.543671 ,  7.542333 ,  7.5341296,\n",
            "        7.504691 ,  7.498269 ,  7.457547 ,  7.4572163,  7.453667 ,\n",
            "        7.4497843,  7.4484043,  7.4395585,  7.436865 ,  7.4338093,\n",
            "        7.424259 ,  7.4043555,  7.401817 ,  7.39963  ,  7.391224 ,\n",
            "        7.3561254,  7.3504744,  7.3395643,  7.33595  ,  7.3344693,\n",
            "        7.332214 ,  7.328031 ,  7.3268394,  7.3187222,  7.304299 ,\n",
            "        7.296209 ,  7.290279 ,  7.2887697,  7.2829547,  7.2614884,\n",
            "        7.249207 ,  7.247778 ,  7.2421975,  7.228252 ,  7.2226114,\n",
            "        7.221685 ,  7.217364 ,  7.2148275,  7.1846004,  7.1807046,\n",
            "        7.1794457,  7.178506 ,  7.175591 ,  7.1680217,  7.1478295,\n",
            "        7.1462173,  7.140952 ,  7.1394014,  7.136297 ,  7.135176 ,\n",
            "        7.1336737,  7.1335616,  7.130698 ,  7.128865 ,  7.1277137,\n",
            "        7.1275654,  7.1241684,  7.1015353,  7.10074  ,  7.0940666,\n",
            "        7.0860972,  7.0807915,  7.0787883,  7.070361 ,  7.0700045,\n",
            "        7.0663514,  7.0644417,  7.0643315,  7.060595 ,  7.0498495,\n",
            "        7.0449376,  7.0435596,  7.0423207,  7.0365353,  7.035031 ,\n",
            "        7.027252 ,  7.024375 ,  7.017515 ,  7.013247 ,  7.004052 ,\n",
            "        6.9968615,  6.9943576,  6.9848   ,  6.9835043,  6.9742727,\n",
            "        6.97321  ,  6.971394 ,  6.9637876,  6.9597096,  6.9579687,\n",
            "        6.95459  ,  6.943908 ,  6.939832 ,  6.9356027,  6.93348  ,\n",
            "        6.9290266,  6.921762 ,  6.9102216,  6.903941 ,  6.9010625,\n",
            "        6.9004183,  6.884958 ,  6.880897 ,  6.8745027,  6.8722506,\n",
            "        6.8580437,  6.8525753,  6.851431 ,  6.845436 ,  6.845095 ,\n",
            "        6.8446646,  6.8446236,  6.83554  ,  6.834682 ,  6.8298016,\n",
            "        6.823905 ,  6.81507  ,  6.806019 ,  6.8023467,  6.800411 ,\n",
            "        6.7930675,  6.7804174,  6.7797346,  6.765706 ,  6.7592845,\n",
            "        6.7562547,  6.754471 ,  6.7463784,  6.745071 ,  6.7439003,\n",
            "        6.7393317,  6.735293 ,  6.735123 ,  6.7278247,  6.7182765,\n",
            "        6.712929 ,  6.7127514,  6.7109947,  6.709943 ,  6.706259 ,\n",
            "        6.702366 ,  6.7010036,  6.691451 ,  6.6889844,  6.688938 ,\n",
            "        6.684933 ,  6.6848907,  6.683477 ,  6.6781063,  6.6728725,\n",
            "        6.6644773,  6.662115 ,  6.6579456,  6.657597 ,  6.6557226,\n",
            "        6.6531987,  6.6525216,  6.6494894,  6.649338 ,  6.647792 ,\n",
            "        6.647629 ,  6.646855 ,  6.64365  ,  6.6364193,  6.6329775,\n",
            "        6.6301055,  6.624827 ,  6.623838 ,  6.6149135,  6.6055036,\n",
            "        6.6045036,  6.6033792,  6.5968814,  6.59396  ,  6.591693 ,\n",
            "        6.590094 ,  6.589856 ,  6.586015 ,  6.5792475,  6.574982 ,\n",
            "        6.574683 ,  6.562744 ,  6.560267 ,  6.554569 ,  6.530383 ,\n",
            "        6.528283 ,  6.524003 ,  6.5209255,  6.51962  ,  6.5150766,\n",
            "        6.5144506,  6.5103154,  6.5088887,  6.508795 ,  6.5079446,\n",
            "        6.4984083,  6.49315  ,  6.4873724,  6.4869585,  6.475374 ,\n",
            "        6.475247 ,  6.4744053,  6.4701667,  6.467278 ,  6.466182 ,\n",
            "        6.4657927,  6.4628243,  6.462301 ,  6.4544883,  6.4418793,\n",
            "        6.437922 ,  6.4361753,  6.4278145,  6.426609 ,  6.4255567,\n",
            "        6.4222693,  6.415747 ,  6.4149137,  6.41061  ,  6.406178 ,\n",
            "        6.4010396,  6.3988576,  6.398253 ,  6.3955917,  6.3792834,\n",
            "        6.37067  ,  6.3658495,  6.3644395,  6.3584065,  6.3574543,\n",
            "        6.3563848,  6.350474 ,  6.3468432,  6.3465557,  6.346271 ,\n",
            "        6.3431125,  6.3411846,  6.3399305,  6.338023 ,  6.3367934,\n",
            "        6.336256 ,  6.334138 ,  6.331392 ,  6.32683  ,  6.323744 ,\n",
            "        6.3156676,  6.3135133,  6.311356 ,  6.3046246,  6.299316 ,\n",
            "        6.284429 ,  6.2809978,  6.2789574,  6.2774405,  6.268795 ,\n",
            "        6.2633014,  6.2569075,  6.2542214,  6.2488575,  6.247904 ,\n",
            "        6.246906 ,  6.2405295,  6.2347193,  6.226582 ,  6.2161036,\n",
            "        6.2122483,  6.2085476,  6.2070494,  6.1983943,  6.191181 ,\n",
            "        6.1899915,  6.1897964,  6.189248 ,  6.1891975,  6.188399 ,\n",
            "        6.184803 ,  6.183729 ,  6.182715 ,  6.176826 ,  6.176217 ,\n",
            "        6.1694436,  6.1685877,  6.167397 ,  6.164097 ,  6.151135 ,\n",
            "        6.150903 ,  6.1490746,  6.148864 ,  6.1482263,  6.142782 ,\n",
            "        6.1424108,  6.129458 ,  6.1245623,  6.1228647,  6.121187 ,\n",
            "        6.116161 ,  6.113317 ,  6.1090755,  6.1068673,  6.1012936,\n",
            "        6.0989604,  6.095814 ,  6.0940065,  6.0876727,  6.084531 ,\n",
            "        6.080383 ,  6.075187 ,  6.0742836,  6.073064 ,  6.0724697,\n",
            "        6.066779 ,  6.0552983,  6.051024 ,  6.049461 ,  6.047253 ,\n",
            "        6.0391045,  6.032607 ,  6.032394 ,  6.032328 ,  6.031604 ,\n",
            "        6.0269194,  6.0250483,  6.0147142,  6.0143733,  6.0130563,\n",
            "        6.009741 ,  6.0067444,  6.0066066,  6.0060077,  6.005098 ,\n",
            "        6.0050893,  6.002721 ,  6.0012484,  6.000427 ,  5.9946976,\n",
            "        5.986562 ,  5.9842324,  5.9829307,  5.982332 ,  5.974541 ,\n",
            "        5.9742584,  5.9735794,  5.9733577,  5.9700274,  5.966862 ,\n",
            "        5.963797 ,  5.9611073,  5.956724 ,  5.95302  ,  5.949565 ,\n",
            "        5.940412 ,  5.9367104,  5.935084 ,  5.9287634,  5.926729 ,\n",
            "        5.924095 ,  5.9208646,  5.9179196,  5.916203 ,  5.915872 ,\n",
            "        5.9147043,  5.9042573,  5.900525 ,  5.8935676,  5.8900537,\n",
            "        5.888526 ,  5.8880606,  5.8876686,  5.8836555,  5.883362 ,\n",
            "        5.882615 ,  5.8820357,  5.881212 ,  5.8805976,  5.8776317,\n",
            "        5.8751645,  5.8736367,  5.869644 ,  5.8678327,  5.860872 ,\n",
            "        5.857361 ,  5.8465247,  5.8432913,  5.842606 ,  5.8416243,\n",
            "        5.8348885,  5.8309875,  5.827583 ,  5.8271046,  5.826317 ,\n",
            "        5.824046 ,  5.818094 ,  5.8102913,  5.8054233,  5.8016677,\n",
            "        5.800716 ,  5.8002615,  5.7996264,  5.7990775,  5.7987504,\n",
            "        5.7926483,  5.7845325,  5.778924 ,  5.7753243,  5.7677207,\n",
            "        5.763379 ,  5.761676 ,  5.7605433,  5.757172 ,  5.75597  ,\n",
            "        5.755595 ,  5.7552   ,  5.74821  ,  5.7460403,  5.7439146,\n",
            "        5.7404413,  5.739409 ,  5.736275 ,  5.736025 ,  5.7348104,\n",
            "        5.7313786,  5.727977 ,  5.7246194,  5.724002 ,  5.7204556,\n",
            "        5.71017  ,  5.708216 ,  5.7080092,  5.7066646,  5.7053227,\n",
            "        5.7047925,  5.7034206,  5.7023735,  5.7011704,  5.7007184,\n",
            "        5.700119 ,  5.698861 ,  5.6982627,  5.6968894,  5.694996 ,\n",
            "        5.6845794,  5.684538 ,  5.6841455,  5.6808395,  5.6754885,\n",
            "        5.673957 ,  5.6661425,  5.6630454,  5.658433 ,  5.65643  ,\n",
            "        5.655047 ,  5.6525683,  5.650559 ,  5.6463   ,  5.6444736,\n",
            "        5.6410117,  5.6402245,  5.638935 ,  5.6377344,  5.637276 ,\n",
            "        5.636926 ,  5.635749 ,  5.624315 ,  5.6211305,  5.6188765,\n",
            "        5.6175776,  5.612721 ,  5.611405 ,  5.6110997,  5.610805 ,\n",
            "        5.606171 ,  5.6057434,  5.6051707,  5.6047764,  5.602764 ,\n",
            "        5.6011047,  5.597162 ,  5.595626 ,  5.592431 ,  5.587193 ,\n",
            "        5.5870185,  5.585902 ,  5.5849996,  5.5847588,  5.584191 ,\n",
            "        5.582797 ,  5.5808263,  5.578068 ,  5.576804 ,  5.574422 ,\n",
            "        5.5706735,  5.5695267,  5.5692677,  5.5500145,  5.5497026,\n",
            "        5.544238 ,  5.542822 ,  5.542337 ,  5.5423136,  5.5422926,\n",
            "        5.541102 ,  5.5410047,  5.54071  ,  5.540134 ,  5.538379 ,\n",
            "        5.5351615,  5.527691 ,  5.525681 ,  5.523377 ,  5.5227027,\n",
            "        5.5139794,  5.5127773,  5.510937 ,  5.510513 ,  5.5096865,\n",
            "        5.5092206,  5.5060143,  5.505179 ,  5.5039926,  5.4997573,\n",
            "        5.495865 ,  5.4956145,  5.487794 ,  5.4863324,  5.4855447,\n",
            "        5.4843087,  5.481631 ,  5.478866 ,  5.4767847,  5.4735   ,\n",
            "        5.470152 ,  5.4670906,  5.462446 ,  5.460057 ,  5.4540105,\n",
            "        5.453021 ,  5.451435 ,  5.4503016,  5.445856 ,  5.4440556,\n",
            "        5.4406505,  5.4383287,  5.4191027,  5.416224 ,  5.414333 ,\n",
            "        5.4136496,  5.4122944,  5.4105372,  5.4037476,  5.40277  ,\n",
            "        5.401471 ,  5.4014397,  5.4014106,  5.401172 ,  5.4000835,\n",
            "        5.399221 ,  5.392458 ,  5.3922205,  5.392215 ,  5.3855715,\n",
            "        5.384398 ,  5.380862 ,  5.380735 ,  5.379943 ,  5.3763175,\n",
            "        5.365783 ,  5.3653274,  5.3650956,  5.3645887,  5.3624315,\n",
            "        5.359581 ,  5.3551564,  5.3546977,  5.354603 ,  5.352881 ,\n",
            "        5.3526444,  5.352553 ,  5.3520694,  5.349999 ,  5.3495846,\n",
            "        5.348386 ,  5.3457737,  5.3447604,  5.3424454,  5.3331237,\n",
            "        5.332846 ,  5.3288264,  5.3275905,  5.3262672,  5.3255725,\n",
            "        5.322189 ,  5.3165307,  5.312621 ,  5.309824 ,  5.306838 ,\n",
            "        5.3060493,  5.3033004,  5.3009124,  5.298175 ,  5.296373 ,\n",
            "        5.2916903,  5.288347 ,  5.2882295,  5.277787 ,  5.2763925,\n",
            "        5.274727 ,  5.271726 ,  5.2710495,  5.270845 ,  5.2679353,\n",
            "        5.2671204,  5.2652855,  5.2640166,  5.2627788,  5.2625656,\n",
            "        5.2621694,  5.260048 ,  5.257987 ,  5.2561884,  5.2547603,\n",
            "        5.254535 ,  5.2492075,  5.2484994,  5.2464056,  5.2458773,\n",
            "        5.2430654,  5.242434 ,  5.241353 ,  5.2403936,  5.2377334,\n",
            "        5.2354016,  5.235048 ,  5.234954 ,  5.230608 ,  5.230306 ,\n",
            "        5.230075 ,  5.2264786,  5.224773 ,  5.2237434,  5.2133994,\n",
            "        5.211892 ,  5.2099056,  5.2050047,  5.2046847,  5.2038574,\n",
            "        5.202605 ,  5.1958547,  5.19473  ,  5.1935115,  5.1930556,\n",
            "        5.189846 ,  5.1867495,  5.179275 ,  5.177913 ,  5.1772847,\n",
            "        5.174636 ,  5.17101  ,  5.1647205,  5.1607614,  5.159214 ,\n",
            "        5.1586943,  5.1515937,  5.151241 ,  5.1507835,  5.1497064,\n",
            "        5.149076 ,  5.1471863,  5.146778 ,  5.142201 ,  5.1414413,\n",
            "        5.1401515,  5.1397834,  5.139616 ,  5.1385427,  5.137263 ,\n",
            "        5.136767 ,  5.1314564,  5.1271467,  5.123968 ,  5.1237345,\n",
            "        5.1236677,  5.1209946,  5.1194367,  5.1183167,  5.117412 ,\n",
            "        5.11519  ,  5.1122003,  5.1112695,  5.1091294,  5.108674 ,\n",
            "        5.1082473,  5.1044974,  5.10341  ,  5.1014743,  5.1000457,\n",
            "        5.099196 ,  5.0934896,  5.093054 ,  5.0917797,  5.0917397,\n",
            "        5.0869136,  5.084727 ,  5.0792704,  5.078124 ,  5.077441 ,\n",
            "        5.0745387,  5.0715165,  5.0708776,  5.0700336,  5.0695033,\n",
            "        5.069199 ,  5.055943 ,  5.055828 ,  5.0542526,  5.0521383,\n",
            "        5.0511675,  5.0506687,  5.0503035,  5.047135 ,  5.0439653,\n",
            "        5.0434785,  5.0416765,  5.040681 ,  5.039471 ,  5.038147 ,\n",
            "        5.0345106,  5.0329013,  5.0295525,  5.0270276,  5.0266213,\n",
            "        5.0236197,  5.0216546,  5.0202518,  5.017994 ,  5.0156193,\n",
            "        5.0146775,  5.012006 ,  5.0098176,  5.007596 ,  5.006496 ,\n",
            "        5.004766 ,  5.0020757,  4.999112 ,  4.997081 ,  4.995879 ,\n",
            "        4.9954486,  4.9941134,  4.9940534,  4.993415 ,  4.990179 ,\n",
            "        4.989908 ,  4.9893417,  4.987657 ,  4.9870434,  4.9863057,\n",
            "        4.9841294,  4.9830146,  4.9828267,  4.9799943,  4.979744 ,\n",
            "        4.9796944,  4.978835 ,  4.977431 ,  4.977297 ,  4.9763293,\n",
            "        4.9691925,  4.968399 ,  4.967414 ,  4.96433  ,  4.962995 ,\n",
            "        4.9615173,  4.9611545,  4.960975 ,  4.9585786,  4.957693 ,\n",
            "        4.943251 ,  4.9374213,  4.9338255,  4.9292054,  4.929058 ,\n",
            "        4.9253817,  4.9239144,  4.922468 ,  4.919897 ,  4.914757 ,\n",
            "        4.912505 ,  4.9122524,  4.9113836,  4.9109025,  4.908515 ,\n",
            "        4.9072495,  4.9063644,  4.905656 ,  4.905231 ,  4.9024563,\n",
            "        4.9004664,  4.9004283,  4.8967404,  4.8963127,  4.895908 ,\n",
            "        4.8957977,  4.894086 ,  4.8932595,  4.890329 ,  4.8877196,\n",
            "        4.8839803,  4.880114 ,  4.877729 ,  4.877654 ,  4.876988 ,\n",
            "        4.8754644,  4.875402 ,  4.8739104,  4.8714676,  4.8712783,\n",
            "        4.8688817,  4.868761 ,  4.8672915,  4.866355 ,  4.865544 ,\n",
            "        4.864815 ,  4.86155  ,  4.8603916,  4.85946  ,  4.858858 ,\n",
            "        4.8548374,  4.8533936,  4.848825 ,  4.8450465,  4.8437996,\n",
            "        4.843082 ,  4.8391047,  4.8379636,  4.8379416,  4.83709  ,\n",
            "        4.8339663,  4.820764 ,  4.818859 ,  4.8177238,  4.8177133,\n",
            "        4.8176103,  4.8112497,  4.8095875,  4.799368 ,  4.7976623,\n",
            "        4.795988 ,  4.7950044,  4.794043 ,  4.7907705,  4.788826 ,\n",
            "        4.7876363,  4.787003 ,  4.784319 ,  4.783909 ,  4.7838597,\n",
            "        4.783192 ,  4.77896  ,  4.7784786,  4.7767096,  4.7756486,\n",
            "        4.7753406,  4.7745943,  4.7736425,  4.7735105,  4.7734685,\n",
            "        4.7733192,  4.7720947,  4.7673616,  4.7649527,  4.7618394,\n",
            "        4.7609916,  4.757521 ,  4.7571816,  4.755271 ,  4.7533493,\n",
            "        4.7518377,  4.7515893,  4.751494 ,  4.7503896,  4.747964 ,\n",
            "        4.746886 ,  4.7461133,  4.744182 ,  4.7422776,  4.7403426,\n",
            "        4.7385707,  4.737474 ,  4.7371855,  4.7371783,  4.7363944,\n",
            "        4.735832 ,  4.734308 ,  4.733351 ,  4.7291245,  4.728902 ],\n",
            "      dtype=float32)>, <tf.Tensor: shape=(1000,), dtype=int32, numpy=\n",
            "array([ 7648, 13168, 23022,  8404,  8267, 15563,   382,  7198, 10335,\n",
            "       13565, 10076, 41400,  9063,  9026,  9769,  6945, 35630,  7492,\n",
            "        6866,  8187, 20182, 15178,  7058, 19925,  9791, 22007, 11770,\n",
            "       27771, 15527,  6884, 42069,  9752, 19020,  7767, 15768,  9301,\n",
            "        9429,  8213,  7120,  8368,  9413,  8745,  7791,  6831, 24636,\n",
            "       24127,  9054, 44629,  7423,  9050,  9072, 16402,  8037,  9203,\n",
            "        9524,  8747,  6898, 15528,  9060,  7609, 22441, 10739,  7848,\n",
            "        8159, 49150, 11565,  7610, 14458,  9059, 20004,  8220,  6918,\n",
            "        6886,  7071,  9538, 11244, 35870,  6958, 13539,  8615,  9819,\n",
            "        9181, 13232,  7847, 13429,  7258,  6905,  8694,   388, 15338,\n",
            "        9923, 10755,  7975, 12516,  9042, 14564, 10639,  6830,  9082,\n",
            "        6900, 10137,  7763, 40918, 14986,  9094,  8038,  8754, 10279,\n",
            "       36665,  8762, 42851,  9211, 25629,  8125, 23163,  9110,  9244,\n",
            "        9071, 17644,  9479, 14006, 11065,  8126,  7084, 10085, 43895,\n",
            "       15365, 14796,  7759,  9096,  9079,  7601,  9055,  7182,  9034,\n",
            "        9229,   739,  9417,  9242, 12410, 49481,  8264,  9649,  9065,\n",
            "       32940, 27580, 19437,  9803, 15171,  9117, 46453,  9174,  9228,\n",
            "       10391,  7824, 47733,  7487, 18062, 12920, 17903, 10313, 13847,\n",
            "        9070, 37353,  6954,  9025, 14222, 14162,  9741, 17201,  9183,\n",
            "       13405,  9135,  8131,  9194,  7607,  8381, 21449, 37811, 15846,\n",
            "        7671,  9032,  9166, 28706, 12141,  9152, 19577, 17196,  9440,\n",
            "        7584, 37173,  7056, 18471,  7586, 28874, 30953,  8756,  8346,\n",
            "        9467,  9815, 11138, 10553, 46762,  8265,  9018,  6893, 31281,\n",
            "        7540, 26578,  8168, 18744, 18268,  7483, 12509, 37239,  7185,\n",
            "       19190, 28179, 27930,  9226, 13651,  7066, 11432, 10252,  8797,\n",
            "       16910,  9208,  6935,  6879, 22097, 26235, 31891,  9081,  8149,\n",
            "       13628,  9358,  9067, 26595,  9114, 10133,  9093, 25688, 10337,\n",
            "        9202, 15253,  9726,  8006, 25705,  7982,  6826,  9073,  9421,\n",
            "       15252,  9722,  8091, 22646, 22408, 10445, 12735,  8740,  6912,\n",
            "       10297, 15017,  9037, 28305, 13235,  8033,  6908, 32511, 12479,\n",
            "        9099, 18324,  9924,  9943,  7055,  6951,   409,  7220, 23936,\n",
            "        9238, 10143,  8708, 10967,  8363, 16537, 12095,  7194,  6889,\n",
            "        7642, 10953,  8084,  9163, 10528, 27861, 29002, 24595,  7461,\n",
            "        8344, 10856, 11342,  9064, 43004, 15386,  9324,  9105,  9407,\n",
            "        9129,  7644,  8243,  8521,  6962,  9107, 10970, 32980,  6960,\n",
            "        9159,  8263, 22182, 12694,  9981,  8054,  9299,  7489,  7244,\n",
            "        8031,  9076,  7970,  9109,   426, 30867,  7597,  6875,  8608,\n",
            "        9140,  9235, 25653,  9218,  9351,  9077,  8148,  6877,  9410,\n",
            "       11685,  8796,  9942, 13337, 11154, 25696,  8570, 24563,  9043,\n",
            "         386,  7239,  7236, 13992, 10039,  9772, 15232, 16314, 11143,\n",
            "        8711, 10080, 44032,  8420,  7769,  8192,  9464, 12246, 13219,\n",
            "       21063, 21888,  9876,  7795, 22452, 44741, 12063, 12786, 10294,\n",
            "       16269, 28236,  9275, 42665, 32684, 24167,  7967, 16776, 10898,\n",
            "       10372,  7669, 40152, 23940, 10339,  8186, 25178, 24115, 37464,\n",
            "        9472,  8189,  9121, 10779,  9234, 12071, 10409,  9123,  6949,\n",
            "       10403, 39606,  9058, 20912,  7417, 36027, 10933,  9367, 14995,\n",
            "        8739, 22206,  9230, 13414,  9088, 43130, 12951,  9495, 20134,\n",
            "       13434, 10622, 12073, 19062, 11573, 13521,  7293, 18091,  9419,\n",
            "        8185, 23376,  8035,  9084,  8652, 35722,  8092, 15380, 17225,\n",
            "        9709,  9755, 21682,  9053,  8397,  9346, 14005,  9074, 15979,\n",
            "        9488,  8196, 18569,  7992,  7039, 27559, 19027, 24093, 15106,\n",
            "        9480,  9282, 10092,   452,  9345, 22587, 15028,  7890,  7235,\n",
            "        9644,  9523,  9266,  7884, 10249,  8400,  6853, 43730,  9623,\n",
            "       21924, 34049, 14124, 17569,  9280,  7541, 11634, 12163,  6963,\n",
            "       41498,  8806,  7109,  7773,  7660,  7501,  9680,  6919, 21308,\n",
            "       47521,  9746, 42614,  7692, 29158, 10308, 34221, 17554, 18225,\n",
            "       49986,  9703,   440,  7673,  9912,  8336, 10068, 49905,  6973,\n",
            "        9529, 27176,  9395, 33352,  9089,  9040,  9227, 10349,  7801,\n",
            "       15473,  7966, 14312, 12836,  8361,  8669, 25714, 48887, 12187,\n",
            "        9930, 21076, 13477, 16869, 11196, 11459,  8262, 38456,  9817,\n",
            "       10581,  8643,  9323,  9586, 23266,  9510, 40963,  8619,  9056,\n",
            "         454,  7488, 28686, 13533, 36640, 12250, 25086,  7123,  8774,\n",
            "       33404, 11494, 36144,  9804,  9260, 19216,  9184, 14712,  7643,\n",
            "       24869, 11141,  9384, 29024,  9259,  9300,  9408,  8335,  9141,\n",
            "       19144,  7480, 13828,  9707, 30871, 11061,  7304,  9095, 10949,\n",
            "        8548, 11528, 33277,  8563, 39309, 12147,  7588, 33952,  9390,\n",
            "        8194,  9296, 34884,  9219, 31238, 10524,  9231,  7825,  8052,\n",
            "       13041, 40865,  8749,  6953, 11427,  7478,  8170,  9265,  7596,\n",
            "       10632, 17402, 47171,  7444, 15813, 13220, 10105,  7521,  7788,\n",
            "        7799,  7907, 35750,   408, 23069,  9673,  9206,  7131,  7177,\n",
            "        7575, 17738, 23415, 16384, 18840,  9435,  7561, 10896,  9232,\n",
            "       40466,  9729,  7559,  8758, 12382, 11613, 28383, 13678, 11913,\n",
            "       41133, 23941, 33974, 11316, 40955, 10073, 10084, 47343,  9252,\n",
            "       30651, 12213, 34708,  9297, 20014, 16476,  6828, 30475,  8519,\n",
            "        9024, 43075,  7265, 47529,  9578, 50725,  9967, 11396,  9193,\n",
            "        8337,  9454, 46753, 49579, 15369,  7107,  8339, 22837,  8618,\n",
            "       10088, 26222, 26383,   430, 32354,  7965, 11574, 11236, 11781,\n",
            "       10321,  9652, 15676, 19541, 33106,  9125,   389, 31941, 19618,\n",
            "       25528, 13472, 15317,  7119,  8360,  7060, 44995,  9730, 18808,\n",
            "       10238,  6825, 15089, 13344, 40247, 11925, 13294,  9928,  7957,\n",
            "       13385, 12096,   445,  9664,  8024,  8217,  9195,  7849,  9138,\n",
            "        6848, 21054, 38265, 47036, 47708, 31272, 10757, 33215,  6855,\n",
            "       19842,  9632,  9122, 27225, 16896, 10174,  8030,  9546, 14692,\n",
            "       10768, 14337,  9518,  9049,  9169, 15715,  7599,  9214, 39579,\n",
            "       50194,  9044, 45399, 28596, 17516, 11270, 16180,  9818, 23330,\n",
            "       45085, 13961, 40909, 12512, 25113, 25059,  9648,  8658,  8236,\n",
            "       26384,  8152, 14835, 15264,  9185,  9502, 13570, 19257, 10048,\n",
            "       13600,  9318, 38399,  9382, 24988,  6904, 44955, 11207, 41889,\n",
            "        8078,  9098, 12537, 18129, 33077, 16826,  9728, 19645,  7172,\n",
            "        9281,  9841, 13899, 11704,  8239, 10152,  8068, 26116,  7426,\n",
            "       13203,  8721, 19567,  7888, 11329,  9256,  8600, 49857,  7062,\n",
            "         468,  9453, 10951, 13077,  9633,  9319, 12940,  8804,  9921,\n",
            "       34353, 10197, 11780,  9118, 14931, 46266, 19671, 30034, 11197,\n",
            "        9580, 16541,  8105,  9425,  8418,  9145, 16793, 34259, 35317,\n",
            "       10187, 34986, 12753, 18059, 27984,  7536, 32915, 31317, 17714,\n",
            "        7555,  9112,  9192, 15967,  9725,  9264,  9719,  6835,  9352,\n",
            "       16080, 10535, 46885,  8508, 10307, 17874,  8074,  7744, 13417,\n",
            "       10114,  6841, 10058, 37169, 45997, 13312, 31354,   433,  9066,\n",
            "       13257,  9128, 47324,  8710, 48199, 21564,  8104, 11281, 23025,\n",
            "        9274, 10446, 12546, 21000,  9103,  6921, 11778, 20072, 18810,\n",
            "       14993, 47280,  9267, 38340, 12918, 40238, 12619,  9091,  9621,\n",
            "       11671, 17586, 17000,  8423, 17408, 30768, 21470, 16720, 12427,\n",
            "        8626, 19447,  9175, 11949, 29309,  7427, 24699, 14828, 19457,\n",
            "       20226,  7892, 20971, 44630, 10498, 13346, 18257, 25497,  7625,\n",
            "       10199, 30353,  9596, 39419, 19633, 29621, 10401, 27281,     5,\n",
            "        7502,  8467, 15255,  9544,  7532,  9199, 10169, 32916, 11926,\n",
            "       10996, 16809, 26166, 12354, 16059, 10367,  9142, 31654,  9215,\n",
            "        9873, 40949, 26849, 15329,  8529, 16605,  8422,  7397, 19946,\n",
            "       10464, 11278, 24523, 31520, 41159, 10489, 14509, 27913,  9694,\n",
            "       41562,   413, 12225,  7983, 51143,  8702,  8679, 29272, 15330,\n",
            "       29946,  7836,  8094, 21459, 18130,  9478, 16001, 10437,  8474,\n",
            "       16973], dtype=int32)>)\n"
          ]
        }
      ]
    },
    {
      "cell_type": "code",
      "source": [
        "prompt = '당신은 말을 할 수 있습니까?'\n",
        "with torch.no_grad():\n",
        "  tokens = tokenizer.encode(prompt, return_tensors='pt').to(device='cuda', non_blocking=True)\n",
        "  gen_tokens = model.generate(tokens,     \n",
        "    do_sample=True, #샘플링 전략 사용\n",
        "    max_length=50, # 최대 디코딩 길이는 50\n",
        "    top_k=50, # 확률 순위가 50위 밖인 토큰은 샘플링에서 제외\n",
        "    top_p=0.95, # 누적 확률이 95%인 후보집합에서만 생성\n",
        "    num_return_sequences=2, #2개의 결과를 디코딩해낸다\n",
        "  )\n",
        "  generated = tokenizer.batch_decode(gen_tokens)[0]\n",
        "print(generated)  "
      ],
      "metadata": {
        "id": "g674qEDBSye-"
      },
      "execution_count": null,
      "outputs": []
    },
    {
      "cell_type": "markdown",
      "source": [],
      "metadata": {
        "id": "m_sV_jv0bkUL"
      }
    },
    {
      "cell_type": "code",
      "source": [],
      "metadata": {
        "id": "Y73CVOLfTI-C"
      },
      "execution_count": null,
      "outputs": []
    },
    {
      "cell_type": "markdown",
      "source": [
        "## Beam Search 기반 "
      ],
      "metadata": {
        "id": "XtXTcJzJblR5"
      }
    },
    {
      "cell_type": "code",
      "source": [
        "prompt = '''당신은 AI입니다. 정말로 '언어'를 이해합니까?'''\n",
        "with torch.no_grad():\n",
        "  tokens = tokenizer.encode(prompt, return_tensors='pt').to(device='cuda', non_blocking=True)\n",
        "  gen_tokens = model.generate(\n",
        "      tokens, \n",
        "      max_length=100, \n",
        "      num_beams=5, #1보다 큰 값을 지정\n",
        "      no_repeat_ngram_size=2, # 2-gram의 어구가 반복되지 않도록 설정함\n",
        "      num_return_sequences=5, # 다섯 개의 문장을 리턴\n",
        "      early_stopping=True #EOS토큰이 나오면 생성을 중단\n",
        "  )\n",
        "  generated = tokenizer.batch_decode(gen_tokens)[0]\n",
        "print(generated)  \n"
      ],
      "metadata": {
        "id": "CRBqhqThSwZ1"
      },
      "execution_count": null,
      "outputs": []
    },
    {
      "cell_type": "code",
      "source": [],
      "metadata": {
        "id": "UztvyrLsNUeS"
      },
      "execution_count": null,
      "outputs": []
    },
    {
      "cell_type": "markdown",
      "source": [
        "## Sampling 기반"
      ],
      "metadata": {
        "id": "W7RdXeIpcL1R"
      }
    },
    {
      "cell_type": "code",
      "source": [
        "prompt = '''당신은 AI입니다. 정말로 '언어'를 이해합니까?'''\n",
        "with torch.no_grad():\n",
        "  tokens = tokenizer.encode(prompt, return_tensors='pt').to(device='cuda', non_blocking=True)\n",
        "  gen_tokens = model.generate(\n",
        "      tokens, \n",
        "      max_length=100, \n",
        "      do_sample=True, #샘플링 전략 사용\n",
        "      top_k=50, # 확률 순위가 50위 밖인 토큰은 샘플링에서 제외\n",
        "      top_p=0.95, # 누적 확률이 95%인 후보집합에서만 생성\n",
        "      temperature= 0.75,# sharpness 조절 낮으면 shaprness 증가 randomness 감소 \n",
        "      num_return_sequences=3 #3개의 결과를 디코딩해낸다\n",
        "  )\n",
        "  generated = tokenizer.batch_decode(gen_tokens)[0]\n",
        "print(generated)  \n"
      ],
      "metadata": {
        "id": "7sMf9GktT8Bw"
      },
      "execution_count": null,
      "outputs": []
    },
    {
      "cell_type": "code",
      "source": [],
      "metadata": {
        "id": "Mtrx7Vy7T-_z"
      },
      "execution_count": null,
      "outputs": []
    },
    {
      "cell_type": "code",
      "source": [],
      "metadata": {
        "id": "dH-spsfvT_br"
      },
      "execution_count": null,
      "outputs": []
    },
    {
      "cell_type": "code",
      "source": [],
      "metadata": {
        "id": "ll8rDXpkUg4c"
      },
      "execution_count": null,
      "outputs": []
    },
    {
      "cell_type": "code",
      "source": [],
      "metadata": {
        "id": "R_At7LyuUmob"
      },
      "execution_count": null,
      "outputs": []
    },
    {
      "cell_type": "markdown",
      "source": [
        "- open-ended 생성에서는 top-k 확은 top-p 디코딩이 greedy 혹은 beam search보다 좋은 전략일 수 있다.\n",
        "\n",
        "- 하지만 안타깝게도 top-k / top-p 샘플링 전략도 동어 반복 문제는 있다. (논문)\n",
        "\n",
        "- 게다가, 모델의 훈련 목적 함수를 잘 조절하면 beam-search가 더 유창한 텍스트를 생성한다는 연구도 있다. (논문)\n",
        "\n",
        "- 이는 open-ended 생성이 최근 빠르게 발전하는 연구분야인만큼, 어떤 하나의 전략이 \"무조건 좋다\"라고 말하기 어렵기 때문. \n",
        "\n",
        "- 포스팅에서 소개한 다양한 방법을 실험해보며 사용자의 태스크에 적합한 전략을 선택하는 것이 중요하다."
      ],
      "metadata": {
        "id": "mTQ1GJBcUuKP"
      }
    },
    {
      "cell_type": "code",
      "source": [],
      "metadata": {
        "id": "VERsZWY4UtjM"
      },
      "execution_count": null,
      "outputs": []
    },
    {
      "cell_type": "code",
      "source": [
        "prompt = '''\n",
        "요즘은 흔히 연락하라는 말을 '카톡해'라고 하지만 10년전 카카오톡이 등장하기 전까지는 '문자해'라는 말이 일반적이었다. MSN 메신저, 네이트온 등 PC 메신저들이 유행해 '메신저'라는 개념에는 익숙했지만 스마트폰 도입이 갓 시작됐을 시기라 모바일 메신저 개념은 희미했다.\n",
        "모바일을 통한 연락 수단이 전화와 문자 메시지였기 때문에 통신사 요금제 역시 통화 가능 시간과 문자의 갯수에 따라 달려졌다. 문자 한 건당 비용이 책정되는데다 70자가 넘으면 MMS로 전환돼 추가 요금이 부가돼 이용자들은 문자 전송에도 한땀한땀 정성을 다해야 했다.\n",
        "때문에 당시 카카오톡의 등장은 센세이션 그 자체였다. 유료 문자메시지를 당연하게 사용했던 시절 글자 제한없는 문자를 무제한으로 보낼 수 있는데다 사진과 동영상까지 마음껏 전송할 수 있는 무료서비스 카카오톡은 문화 충격이나 다름 없었다.\n",
        "문자뿐 아니라 통화 문화도 변했다. 2012년 당시 가입자가 3600만명에 달했던 카카오톡이 무료 음성통화 서비스 '보이스톡'을 선보이자 통신업계가 떠들썩해졌다. 카카오 보다 앞서 음성 통화 서비스를 선보인 마이피플, 라인 등은 크게 주목받지 못했지만 카카오톡은 높은 이용자수를 기반으로 보이스톡 서비스를 확장시켰다.\n",
        "특히 보이스톡은 로밍 서비스에 가입하거나 국제 전화 서비스를 이용하지 않아도 데이터만 연결돼 있다면 해외에서도 카카오톡 친구와 무료 통화가 가능하다는 점 때문에 큰 화제를 모았다. 이때부터 해외 여행 시 로밍을 하지 않고 현지 유심을 구매하는 이들이 늘어나게 됐다.\n",
        "\n",
        "한줄 요약:'''\n",
        "\n",
        "with torch.no_grad():\n",
        "  tokens = tokenizer.encode(prompt, return_tensors='pt').to(device='cuda', non_blocking=True)\n",
        "  gen_tokens = model.generate(\n",
        "      tokens, \n",
        "      max_length=50, \n",
        "      num_beams=5, #1보다 큰 값을 지정\n",
        "      no_repeat_ngram_size=2, # 2-gram의 어구가 반복되지 않도록 설정함\n",
        "      num_return_sequences=5, # 다섯 개의 문장을 리턴\n",
        "      early_stopping=True #EOS토큰이 나오면 생성을 중단\n",
        "  )\n",
        "  generated = tokenizer.batch_decode(gen_tokens)[0]  \n",
        "print(generated)"
      ],
      "metadata": {
        "id": "InAxLGaczGbC"
      },
      "execution_count": null,
      "outputs": []
    },
    {
      "cell_type": "code",
      "source": [
        "prompt = '''\n",
        "\n",
        "다음 문장을 서울 말투에서 북한 말투로 말투를 변환 합니다. \n",
        "\n",
        "서울 말투 : 배고파요, 우리 저기서 뭐라도 먹고갈까요?\n",
        "\n",
        "북한 말투 : '''\n",
        "with torch.no_grad():\n",
        "  tokens = tokenizer.encode(prompt, return_tensors='pt').to(device='cuda', non_blocking=True)\n",
        "  gen_tokens = model.generate(\n",
        "      tokens,\n",
        "      do_sample=True, #샘플링 전략 사용\n",
        "      max_length=80, # 최대 디코딩 길이는 50\n",
        "      top_k=50, # 확률 순위가 50위 밖인 토큰은 샘플링에서 제외\n",
        "      top_p=0.95, # 누적 확률이 95%인 후보집합에서만 생성\n",
        "      temperature= 0.75,\n",
        "      num_return_sequences=3 #3개의 결과를 디코딩해낸다\n",
        "  )\n",
        "  generated = tokenizer.batch_decode(gen_tokens)\n",
        "  \n",
        "print(generated[0])"
      ],
      "metadata": {
        "id": "EkTTmQCB4P0q"
      },
      "execution_count": null,
      "outputs": []
    },
    {
      "cell_type": "code",
      "source": [
        "prompt = '''\n",
        "Translate the Korean sentence into English sentence \n",
        "Korean : \"나 지금 많이 배고픈데, 우리 저기서 뭐라도 먹고갈까?\"\n",
        "English : \"'''\n",
        "\n",
        "with torch.no_grad():\n",
        "  tokens = tokenizer.encode(prompt, return_tensors='pt').to(device='cuda', non_blocking=True)\n",
        "  #두 전략을 섞어서 사용하면, 너무 낮게 랭킹된 토큰을 사용하는 것은 피하면서도 꽤나 다양한 시퀀스를 생성할 수 있다.\n",
        "\n",
        "  sample_outputs = model.generate(\n",
        "      tokens,\n",
        "      do_sample=True, #샘플링 전략 사용\n",
        "      max_length=70, # 최대 디코딩 길이는 50\n",
        "      top_k=50, # 확률 순위가 50위 밖인 토큰은 샘플링에서 제외\n",
        "      top_p=0.95, # 누적 확률이 95%인 후보집합에서만 생성\n",
        "      temperature= 0.65,\n",
        "      num_return_sequences=3 #3개의 결과를 디코딩해낸다\n",
        "  )\n",
        "    \n",
        "  generated = tokenizer.batch_decode(sample_outputs)[0]\n",
        "  \n",
        "print(generated)"
      ],
      "metadata": {
        "id": "llkl6MAW5weK"
      },
      "execution_count": null,
      "outputs": []
    },
    {
      "cell_type": "code",
      "source": [],
      "metadata": {
        "id": "xJFioYlTdh93"
      },
      "execution_count": null,
      "outputs": []
    },
    {
      "cell_type": "code",
      "source": [
        "prompt = '''\n",
        "최고 핫한 인공지능, kogpt님과 인터뷰 나눠보겠습니다!\n",
        "Q : kogpt님, 수월한 대화가 가능하신가요?\n",
        "A : '''\n",
        "\n",
        "with torch.no_grad():\n",
        "  tokens = tokenizer.encode(prompt, return_tensors='pt').to(device='cuda', non_blocking=True)\n",
        "  gen_tokens = model.generate(\n",
        "      tokens, \n",
        "      max_length=100, \n",
        "      num_beams=5, #1보다 큰 값을 지정\n",
        "      no_repeat_ngram_size=2, # 2-gram의 어구가 반복되지 않도록 설정함\n",
        "      num_return_sequences=5, # 다섯 개의 문장을 리턴\n",
        "      early_stopping=True #EOS토큰이 나오면 생성을 중단\n",
        "  )\n",
        "  generated = tokenizer.batch_decode(gen_tokens)[0]\n",
        "  \n",
        "print(generated)"
      ],
      "metadata": {
        "id": "_0Uiu5PGDPd3"
      },
      "execution_count": null,
      "outputs": []
    },
    {
      "cell_type": "code",
      "source": [
        "prompt = '''\n",
        "최고 핫한 인공지능, kogpt님과 인터뷰 나눠보겠습니다!\n",
        "Q : kogpt님, 수월한 대화가 가능하신가요?\n",
        "A : '''\n",
        "\n",
        "with torch.no_grad():\n",
        "  tokens = tokenizer.encode(prompt, return_tensors='pt').to(device='cuda', non_blocking=True)\n",
        "  gen_tokens = model.generate(\n",
        "      tokens, \n",
        "      max_length=100, \n",
        "      do_sample=True, #샘플링 전략 사용\n",
        "      top_k=50, # 확률 순위가 50위 밖인 토큰은 샘플링에서 제외\n",
        "      top_p=0.95, # 누적 확률이 95%인 후보집합에서만 생성\n",
        "      temperature= 0.75,# sharpness 조절 낮으면 shaprness 증가 randomness 감소 \n",
        "      num_return_sequences=3 #3개의 결과를 디코딩해낸다\n",
        "  )\n",
        "  generated = tokenizer.batch_decode(gen_tokens)[0]\n",
        "  \n",
        "print(generated)"
      ],
      "metadata": {
        "id": "OCtHApN0divr"
      },
      "execution_count": null,
      "outputs": []
    },
    {
      "cell_type": "code",
      "source": [
        "prompt = '''\n",
        "최고 핫한 인공지능, kogpt님과 인터뷰 나눠보겠습니다!\n",
        "Q : kogpt님, 수월한 대화가 가능하신가요?\n",
        "A : '''\n",
        "\n",
        "with torch.no_grad():\n",
        "  tokens = tokenizer.encode(prompt, return_tensors='pt').to(device='cuda', non_blocking=True)\n",
        "  #gen_tokens = model.generate(tokens, do_sample=True, temperature=0.85, max_length=128)\n",
        "  gen_tokens = model.generate(\n",
        "      tokens,\n",
        "      do_sample=True, #샘플링 전략 사용\n",
        "      max_length=256, # 최대 디코딩 길이는 50\n",
        "      top_k=50, # 확률 순위가 50위 밖인 토큰은 샘플링에서 제외\n",
        "      top_p=0.95, # 누적 확률이 95%인 후보집합에서만 생성\n",
        "      temperature= 0.85,\n",
        "      num_return_sequences=3 #3개의 결과를 디코딩해낸다\n",
        "  )\n",
        "    \n",
        "  generated = tokenizer.batch_decode(gen_tokens)[0]\n",
        "  \n",
        "print(generated)"
      ],
      "metadata": {
        "id": "v4LWtqxtXi30"
      },
      "execution_count": null,
      "outputs": []
    },
    {
      "cell_type": "code",
      "source": [],
      "metadata": {
        "id": "mtfctbGlX8lf"
      },
      "execution_count": null,
      "outputs": []
    }
  ]
}